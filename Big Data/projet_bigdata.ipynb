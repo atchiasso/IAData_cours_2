{
 "cells": [
  {
   "cell_type": "code",
   "execution_count": 41,
   "metadata": {},
   "outputs": [],
   "source": [
    "import pyspark\n",
    "import pyspark.sql.functions as F\n",
    "from pyspark import SparkContext\n",
    "from pyspark.sql import SparkSession\n",
    "from pyspark.sql import SQLContext\n",
    "from pyspark.ml.stat import Correlation"
   ]
  },
  {
   "cell_type": "markdown",
   "metadata": {},
   "source": [
    "#### Requêtes SQL "
   ]
  },
  {
   "cell_type": "code",
   "execution_count": 42,
   "metadata": {},
   "outputs": [
    {
     "name": "stdout",
     "output_type": "stream",
     "text": [
      "3.2.1\n"
     ]
    }
   ],
   "source": [
    "print(pyspark.__version__)"
   ]
  },
  {
   "cell_type": "code",
   "execution_count": 43,
   "metadata": {},
   "outputs": [],
   "source": [
    "conf = pyspark.SparkConf().set(\"spark.jars.packages\", \n",
    "                                \"org.mongodb.spark:mongo-spark-connector_2.12:3.0.1\").setMaster(\"local\").setAppName(\"My App\").setAll([(\"spark.driver.memory\", \"40g\"), (\"spark;executor.memory\", \"50g\")])"
   ]
  },
  {
   "cell_type": "code",
   "execution_count": 44,
   "metadata": {},
   "outputs": [],
   "source": [
    "sc = SparkContext(conf=conf) #Connected to pyspark"
   ]
  },
  {
   "cell_type": "code",
   "execution_count": 45,
   "metadata": {},
   "outputs": [
    {
     "name": "stderr",
     "output_type": "stream",
     "text": [
      "C:\\Python\\lib\\site-packages\\pyspark\\sql\\context.py:77: FutureWarning: Deprecated in 3.0.0. Use SparkSession.builder.getOrCreate() instead.\n",
      "  warnings.warn(\n"
     ]
    }
   ],
   "source": [
    "sqlC = SQLContext(sc)"
   ]
  },
  {
   "cell_type": "code",
   "execution_count": 46,
   "metadata": {},
   "outputs": [],
   "source": [
    "mongo_ip = \"mongodb://localhost:27017/restaurantsdb.\""
   ]
  },
  {
   "cell_type": "code",
   "execution_count": 47,
   "metadata": {},
   "outputs": [],
   "source": [
    "restaurants = sqlC.read.format(\"com.mongodb.spark.sql.DefaultSource\").option(\"uri\", mongo_ip + \"restaurants\").load()"
   ]
  },
  {
   "cell_type": "code",
   "execution_count": 48,
   "metadata": {},
   "outputs": [],
   "source": [
    "restaurants.createOrReplaceTempView(\"restaurants\")"
   ]
  },
  {
   "cell_type": "code",
   "execution_count": 49,
   "metadata": {},
   "outputs": [],
   "source": [
    "restaurants = sqlC.sql(\"SELECT * FROM restaurants\")"
   ]
  },
  {
   "cell_type": "code",
   "execution_count": 50,
   "metadata": {},
   "outputs": [
    {
     "name": "stdout",
     "output_type": "stream",
     "text": [
      "+--------------------+--------------------+-------------+--------------------+--------------------+--------------------+-------------+\n",
      "|                 _id|             address|      borough|             cuisine|              grades|                name|restaurant_id|\n",
      "+--------------------+--------------------+-------------+--------------------+--------------------+--------------------+-------------+\n",
      "|{61f15a93e0cb0c13...|{1007, [-73.85607...|        Bronx|              Bakery|[{2014-03-03 01:0...|Morris Park Bake ...|     30075445|\n",
      "|{61f15a93e0cb0c13...|{469, [-73.961704...|     Brooklyn|          Hamburgers|[{2014-12-30 01:0...|             Wendy'S|     30112340|\n",
      "|{61f15a93e0cb0c13...|{351, [-73.985135...|    Manhattan|               Irish|[{2014-09-06 02:0...|Dj Reynolds Pub A...|     30191841|\n",
      "|{61f15a93e0cb0c13...|{2780, [-73.98241...|     Brooklyn|           American |[{2014-06-10 02:0...|     Riviera Caterer|     40356018|\n",
      "|{61f15a93e0cb0c13...|{97-22, [-73.8601...|       Queens|       Jewish/Kosher|[{2014-11-24 01:0...|  Tov Kosher Kitchen|     40356068|\n",
      "|{61f15a93e0cb0c13...|{8825, [-73.88038...|       Queens|           American |[{2014-11-15 01:0...|Brunos On The Bou...|     40356151|\n",
      "|{61f15a93e0cb0c13...|{2206, [-74.13772...|Staten Island|       Jewish/Kosher|[{2014-10-06 02:0...|       Kosher Island|     40356442|\n",
      "|{61f15a93e0cb0c13...|{7114, [-73.90685...|     Brooklyn|        Delicatessen|[{2014-05-29 02:0...|  Wilken'S Fine Food|     40356483|\n",
      "|{61f15a93e0cb0c13...|{6409, [-74.00528...|     Brooklyn|           American |[{2014-07-18 02:0...|     Regina Caterers|     40356649|\n",
      "|{61f15a93e0cb0c13...|{1839, [-73.94826...|     Brooklyn|Ice Cream, Gelato...|[{2014-07-14 02:0...|Taste The Tropics...|     40356731|\n",
      "|{61f15a93e0cb0c13...|{2300, [-73.87861...|        Bronx|           American |[{2014-05-28 02:0...|           Wild Asia|     40357217|\n",
      "|{61f15a93e0cb0c13...|{7715, [-73.99733...|     Brooklyn|           American |[{2014-04-16 02:0...|C & C Catering Se...|     40357437|\n",
      "|{61f15a93e0cb0c13...|{1269, [-73.87119...|     Brooklyn|             Chinese|[{2014-09-16 02:0...|     May May Kitchen|     40358429|\n",
      "|{61f15a93e0cb0c13...|{1, [-73.96926909...|    Manhattan|           American |[{2014-05-07 02:0...|1 East 66Th Stree...|     40359480|\n",
      "|{61f15a93e0cb0c13...|{705, [-73.965396...|     Brooklyn|       Jewish/Kosher|[{2014-11-10 01:0...|         Seuda Foods|     40360045|\n",
      "|{61f15a93e0cb0c13...|{203, [-73.978220...|     Brooklyn|Ice Cream, Gelato...|[{2014-02-10 01:0...|    Carvel Ice Cream|     40360076|\n",
      "|{61f15a93e0cb0c13...|{265-15, [-73.703...|       Queens|Ice Cream, Gelato...|[{2014-10-28 01:0...|    Carvel Ice Cream|     40361322|\n",
      "|{61f15a93e0cb0c13...|{6909, [-74.02595...|     Brooklyn|        Delicatessen|[{2014-08-21 02:0...|   Nordic Delicacies|     40361390|\n",
      "|{61f15a93e0cb0c13...|{522, [-73.95171,...|    Manhattan|           American |[{2014-09-02 02:0...|       Glorious Food|     40361521|\n",
      "|{61f15a93e0cb0c13...|{284, [-73.982923...|     Brooklyn|           American |[{2014-11-19 01:0...|   The Movable Feast|     40361606|\n",
      "+--------------------+--------------------+-------------+--------------------+--------------------+--------------------+-------------+\n",
      "only showing top 20 rows\n",
      "\n"
     ]
    }
   ],
   "source": [
    "restaurants.show()"
   ]
  },
  {
   "cell_type": "code",
   "execution_count": 51,
   "metadata": {},
   "outputs": [
    {
     "name": "stdout",
     "output_type": "stream",
     "text": [
      "+--------+\n",
      "|count(1)|\n",
      "+--------+\n",
      "|    3772|\n",
      "+--------+\n",
      "\n"
     ]
    }
   ],
   "source": [
    "# Nombre de données dans la table\n",
    "restaurants = sqlC.sql(\"SELECT COUNT(*) FROM restaurants\")\n",
    "restaurants.show()"
   ]
  },
  {
   "cell_type": "code",
   "execution_count": 52,
   "metadata": {},
   "outputs": [
    {
     "name": "stdout",
     "output_type": "stream",
     "text": [
      "+-------+--------------------+\n",
      "|zipcode|count(restaurant_id)|\n",
      "+-------+--------------------+\n",
      "|  11205|                  10|\n",
      "|  11236|                  11|\n",
      "|  10309|                  13|\n",
      "|  11106|                  27|\n",
      "|  11218|                  16|\n",
      "|  10452|                  11|\n",
      "|  11428|                   5|\n",
      "|  11237|                   9|\n",
      "|  11379|                  11|\n",
      "|  11364|                  10|\n",
      "|  11249|                   8|\n",
      "|  10012|                  94|\n",
      "|  11001|                   2|\n",
      "|  11385|                  34|\n",
      "|  11238|                  12|\n",
      "|  10039|                   4|\n",
      "|  11427|                   5|\n",
      "|  11367|                  10|\n",
      "|  10010|                  27|\n",
      "|  10038|                  18|\n",
      "+-------+--------------------+\n",
      "only showing top 20 rows\n",
      "\n"
     ]
    }
   ],
   "source": [
    "# Nombre de restaurants par code postal\n",
    "restaurants = sqlC.sql(\"SELECT address.zipcode, COUNT(restaurant_id) FROM restaurants GROUP BY address.zipcode\")\n",
    "restaurants.show()"
   ]
  },
  {
   "cell_type": "code",
   "execution_count": 53,
   "metadata": {},
   "outputs": [
    {
     "name": "stdout",
     "output_type": "stream",
     "text": [
      "+----------------+--------------------+\n",
      "|         cuisine|count(restaurant_id)|\n",
      "+----------------+--------------------+\n",
      "|Pancakes/Waffles|                   7|\n",
      "|Chinese/Japanese|                   1|\n",
      "|         Mexican|                  73|\n",
      "|   Jewish/Kosher|                  60|\n",
      "|          Bakery|                 127|\n",
      "|         Turkish|                  11|\n",
      "|        Armenian|                   1|\n",
      "|         Hotdogs|                   4|\n",
      "|       Ethiopian|                   3|\n",
      "|            Thai|                  14|\n",
      "|          Indian|                  43|\n",
      "|         Chinese|                 115|\n",
      "|      Indonesian|                   2|\n",
      "|       Soul Food|                   6|\n",
      "|     Continental|                   8|\n",
      "|           Steak|                  21|\n",
      "|         African|                   4|\n",
      "|CafÃ©/Coffee/Tea|                   1|\n",
      "|          Donuts|                  43|\n",
      "|           Tapas|                   4|\n",
      "+----------------+--------------------+\n",
      "only showing top 20 rows\n",
      "\n"
     ]
    }
   ],
   "source": [
    "# Nombre de restaurants par type de cuisine\n",
    "restaurants = sqlC.sql(\"SELECT cuisine, COUNT(restaurant_id) FROM restaurants GROUP BY cuisine\")\n",
    "restaurants.show()"
   ]
  },
  {
   "cell_type": "code",
   "execution_count": 54,
   "metadata": {},
   "outputs": [
    {
     "name": "stdout",
     "output_type": "stream",
     "text": [
      "+--------------------+--------------------+-------------+--------------------+--------------------+--------------------+-------------+---+\n",
      "|                 _id|             address|      borough|             cuisine|              grades|                name|restaurant_id|sum|\n",
      "+--------------------+--------------------+-------------+--------------------+--------------------+--------------------+-------------+---+\n",
      "|{61f15a93e0cb0c13...|{1007, [-73.85607...|        Bronx|              Bakery|[{2014-03-03 01:0...|Morris Park Bake ...|     30075445| 41|\n",
      "|{61f15a93e0cb0c13...|{469, [-73.961704...|     Brooklyn|          Hamburgers|[{2014-12-30 01:0...|             Wendy'S|     30112340| 55|\n",
      "|{61f15a93e0cb0c13...|{351, [-73.985135...|    Manhattan|               Irish|[{2014-09-06 02:0...|Dj Reynolds Pub A...|     30191841| 37|\n",
      "|{61f15a93e0cb0c13...|{2780, [-73.98241...|     Brooklyn|           American |[{2014-06-10 02:0...|     Riviera Caterer|     40356018| 36|\n",
      "|{61f15a93e0cb0c13...|{97-22, [-73.8601...|       Queens|       Jewish/Kosher|[{2014-11-24 01:0...|  Tov Kosher Kitchen|     40356068| 71|\n",
      "|{61f15a93e0cb0c13...|{8825, [-73.88038...|       Queens|           American |[{2014-11-15 01:0...|Brunos On The Bou...|     40356151| 68|\n",
      "|{61f15a93e0cb0c13...|{2206, [-74.13772...|Staten Island|       Jewish/Kosher|[{2014-10-06 02:0...|       Kosher Island|     40356442| 42|\n",
      "|{61f15a93e0cb0c13...|{7114, [-73.90685...|     Brooklyn|        Delicatessen|[{2014-05-29 02:0...|  Wilken'S Fine Food|     40356483| 60|\n",
      "|{61f15a93e0cb0c13...|{6409, [-74.00528...|     Brooklyn|           American |[{2014-07-18 02:0...|     Regina Caterers|     40356649| 48|\n",
      "|{61f15a93e0cb0c13...|{1839, [-73.94826...|     Brooklyn|Ice Cream, Gelato...|[{2014-07-14 02:0...|Taste The Tropics...|     40356731| 33|\n",
      "|{61f15a93e0cb0c13...|{2300, [-73.87861...|        Bronx|           American |[{2014-05-28 02:0...|           Wild Asia|     40357217| 18|\n",
      "|{61f15a93e0cb0c13...|{7715, [-73.99733...|     Brooklyn|           American |[{2014-04-16 02:0...|C & C Catering Se...|     40357437| 14|\n",
      "|{61f15a93e0cb0c13...|{1269, [-73.87119...|     Brooklyn|             Chinese|[{2014-09-16 02:0...|     May May Kitchen|     40358429|138|\n",
      "|{61f15a93e0cb0c13...|{1, [-73.96926909...|    Manhattan|           American |[{2014-05-07 02:0...|1 East 66Th Stree...|     40359480| 13|\n",
      "|{61f15a93e0cb0c13...|{705, [-73.965396...|     Brooklyn|       Jewish/Kosher|[{2014-11-10 01:0...|         Seuda Foods|     40360045| 59|\n",
      "|{61f15a93e0cb0c13...|{203, [-73.978220...|     Brooklyn|Ice Cream, Gelato...|[{2014-02-10 01:0...|    Carvel Ice Cream|     40360076| 43|\n",
      "|{61f15a93e0cb0c13...|{265-15, [-73.703...|       Queens|Ice Cream, Gelato...|[{2014-10-28 01:0...|    Carvel Ice Cream|     40361322| 32|\n",
      "|{61f15a93e0cb0c13...|{6909, [-74.02595...|     Brooklyn|        Delicatessen|[{2014-08-21 02:0...|   Nordic Delicacies|     40361390| 17|\n",
      "|{61f15a93e0cb0c13...|{522, [-73.95171,...|    Manhattan|           American |[{2014-09-02 02:0...|       Glorious Food|     40361521| 61|\n",
      "|{61f15a93e0cb0c13...|{284, [-73.982923...|     Brooklyn|           American |[{2014-11-19 01:0...|   The Movable Feast|     40361606| 37|\n",
      "+--------------------+--------------------+-------------+--------------------+--------------------+--------------------+-------------+---+\n",
      "only showing top 20 rows\n",
      "\n"
     ]
    }
   ],
   "source": [
    "# Le restaurant le mieux noté\n",
    "from pyspark.sql.functions import *\n",
    "\n",
    "restaurants = sqlC.sql(\"select *,aggregate(grades.score,0,(x,y) -> x + y) as sum from restaurants\")\n",
    "restaurants.show()"
   ]
  },
  {
   "cell_type": "markdown",
   "metadata": {},
   "source": [
    "### Preprocessing"
   ]
  },
  {
   "cell_type": "code",
   "execution_count": 55,
   "metadata": {},
   "outputs": [],
   "source": [
    "restaurants_df = sqlC.read.format(\"com.mongodb.spark.sql.DefaultSource\").option(\"uri\", mongo_ip + \"restau_df\").load()"
   ]
  },
  {
   "cell_type": "code",
   "execution_count": 56,
   "metadata": {},
   "outputs": [
    {
     "name": "stdout",
     "output_type": "stream",
     "text": [
      "+--------------------+--------------------+-----------------+------------------+-----+-------------+-------+\n",
      "|                 _id|             cuisine|        lattitude|         longitude|notes|     quartier|zipcode|\n",
      "+--------------------+--------------------+-----------------+------------------+-----+-------------+-------+\n",
      "|{61f15a93e0cb0c13...|              Bakery|        40.848447|        -73.856077|    2|        Bronx|  10462|\n",
      "|{61f15a93e0cb0c13...|          Hamburgers|        40.662942|        -73.961704|    8|     Brooklyn|  11225|\n",
      "|{61f15a93e0cb0c13...|               Irish|       40.7676919|-73.98513559999999|    2|    Manhattan|  10019|\n",
      "|{61f15a93e0cb0c13...|           American |        40.579505|-73.98241999999999|    5|     Brooklyn|  11224|\n",
      "|{61f15a93e0cb0c13...|       Jewish/Kosher|       40.7311739|       -73.8601152|   20|       Queens|  11374|\n",
      "|{61f15a93e0cb0c13...|           American |       40.7643124|       -73.8803827|   38|       Queens|  11369|\n",
      "|{61f15a93e0cb0c13...|       Jewish/Kosher|       40.6119572|       -74.1377286|    9|Staten Island|  10314|\n",
      "|{61f15a93e0cb0c13...|        Delicatessen|       40.6199034|       -73.9068506|   10|     Brooklyn|  11234|\n",
      "|{61f15a93e0cb0c13...|           American |        40.628886|-74.00528899999999|   12|     Brooklyn|  11219|\n",
      "|{61f15a93e0cb0c13...|Ice Cream, Gelato...|       40.6408271|       -73.9482609|   12|     Brooklyn|  11226|\n",
      "|{61f15a93e0cb0c13...|           American |       40.8502883|       -73.8786113|   11|        Bronx|  10460|\n",
      "|{61f15a93e0cb0c13...|           American |40.61174889999999|       -73.9973325|    5|     Brooklyn|  11214|\n",
      "|{61f15a93e0cb0c13...|             Chinese|       40.6730975|        -73.871194|   21|     Brooklyn|  11208|\n",
      "|{61f15a93e0cb0c13...|           American |       40.7685235|-73.96926909999999|    3|    Manhattan|  10065|\n",
      "|{61f15a93e0cb0c13...|       Jewish/Kosher|       40.6064339|       -73.9653967|   11|     Brooklyn|  11223|\n",
      "|{61f15a93e0cb0c13...|Ice Cream, Gelato...|       40.6435254|-73.97822040000001|    2|     Brooklyn|  11218|\n",
      "|{61f15a93e0cb0c13...|Ice Cream, Gelato...|       40.7386417|       -73.7032601|    9|       Queens|  11004|\n",
      "|{61f15a93e0cb0c13...|        Delicatessen|       40.6353674|       -74.0259567|    4|     Brooklyn|  11209|\n",
      "|{61f15a93e0cb0c13...|           American |        40.767461|         -73.95171|   12|    Manhattan|  10021|\n",
      "|{61f15a93e0cb0c13...|           American |       40.6580753|       -73.9829239|   11|     Brooklyn|  11215|\n",
      "+--------------------+--------------------+-----------------+------------------+-----+-------------+-------+\n",
      "only showing top 20 rows\n",
      "\n"
     ]
    }
   ],
   "source": [
    "restaurants_df.show()"
   ]
  },
  {
   "cell_type": "code",
   "execution_count": 57,
   "metadata": {},
   "outputs": [
    {
     "name": "stdout",
     "output_type": "stream",
     "text": [
      "root\n",
      " |-- _id: struct (nullable = true)\n",
      " |    |-- oid: string (nullable = true)\n",
      " |-- cuisine: string (nullable = true)\n",
      " |-- lattitude: double (nullable = true)\n",
      " |-- longitude: double (nullable = true)\n",
      " |-- notes: integer (nullable = true)\n",
      " |-- quartier: string (nullable = true)\n",
      " |-- zipcode: string (nullable = true)\n",
      "\n"
     ]
    }
   ],
   "source": [
    "restaurants_df.printSchema()"
   ]
  },
  {
   "cell_type": "code",
   "execution_count": 58,
   "metadata": {},
   "outputs": [
    {
     "name": "stdout",
     "output_type": "stream",
     "text": [
      "+-------+--------------------+------------------+------------------+------------------+-------------+-----------------+\n",
      "|summary|             cuisine|         lattitude|         longitude|             notes|     quartier|          zipcode|\n",
      "+-------+--------------------+------------------+------------------+------------------+-------------+-----------------+\n",
      "|  count|                3772|              3772|              3772|              3772|         3772|             3772|\n",
      "|   mean|                null| 40.67625120771491|-73.96846774331894|10.701219512195122|         null|10545.26802757158|\n",
      "| stddev|                null|1.6256337301241979| 4.953221264543527|  5.98845956338147|         null| 588.991762883543|\n",
      "|    min|              Afghan|       -28.0168595|      -119.6368672|                -1|        Bronx|            10001|\n",
      "|    max|Vietnamese/Cambod...|        51.6514664|       153.1628795|                89|Staten Island|            11697|\n",
      "+-------+--------------------+------------------+------------------+------------------+-------------+-----------------+\n",
      "\n"
     ]
    }
   ],
   "source": [
    "restaurants_df.describe().show()"
   ]
  },
  {
   "cell_type": "code",
   "execution_count": 59,
   "metadata": {},
   "outputs": [
    {
     "data": {
      "text/html": [
       "<div>\n",
       "<style scoped>\n",
       "    .dataframe tbody tr th:only-of-type {\n",
       "        vertical-align: middle;\n",
       "    }\n",
       "\n",
       "    .dataframe tbody tr th {\n",
       "        vertical-align: top;\n",
       "    }\n",
       "\n",
       "    .dataframe thead th {\n",
       "        text-align: right;\n",
       "    }\n",
       "</style>\n",
       "<table border=\"1\" class=\"dataframe\">\n",
       "  <thead>\n",
       "    <tr style=\"text-align: right;\">\n",
       "      <th></th>\n",
       "      <th>_id</th>\n",
       "      <th>longitude</th>\n",
       "      <th>lattitude</th>\n",
       "      <th>zipcode</th>\n",
       "      <th>cuisine</th>\n",
       "      <th>quartier</th>\n",
       "      <th>notes</th>\n",
       "    </tr>\n",
       "  </thead>\n",
       "  <tbody>\n",
       "    <tr>\n",
       "      <th>0</th>\n",
       "      <td>61f15a93e0cb0c134b208f69</td>\n",
       "      <td>-73.856077</td>\n",
       "      <td>40.848447</td>\n",
       "      <td>10462</td>\n",
       "      <td>Bakery</td>\n",
       "      <td>Bronx</td>\n",
       "      <td>2</td>\n",
       "    </tr>\n",
       "    <tr>\n",
       "      <th>1</th>\n",
       "      <td>61f15a93e0cb0c134b208f6a</td>\n",
       "      <td>-73.961704</td>\n",
       "      <td>40.662942</td>\n",
       "      <td>11225</td>\n",
       "      <td>Hamburgers</td>\n",
       "      <td>Brooklyn</td>\n",
       "      <td>8</td>\n",
       "    </tr>\n",
       "    <tr>\n",
       "      <th>2</th>\n",
       "      <td>61f15a93e0cb0c134b208f6b</td>\n",
       "      <td>-73.985136</td>\n",
       "      <td>40.767692</td>\n",
       "      <td>10019</td>\n",
       "      <td>Irish</td>\n",
       "      <td>Manhattan</td>\n",
       "      <td>2</td>\n",
       "    </tr>\n",
       "    <tr>\n",
       "      <th>3</th>\n",
       "      <td>61f15a93e0cb0c134b208f6c</td>\n",
       "      <td>-73.982420</td>\n",
       "      <td>40.579505</td>\n",
       "      <td>11224</td>\n",
       "      <td>American</td>\n",
       "      <td>Brooklyn</td>\n",
       "      <td>5</td>\n",
       "    </tr>\n",
       "    <tr>\n",
       "      <th>4</th>\n",
       "      <td>61f15a93e0cb0c134b208f6d</td>\n",
       "      <td>-73.860115</td>\n",
       "      <td>40.731174</td>\n",
       "      <td>11374</td>\n",
       "      <td>Jewish/Kosher</td>\n",
       "      <td>Queens</td>\n",
       "      <td>20</td>\n",
       "    </tr>\n",
       "    <tr>\n",
       "      <th>...</th>\n",
       "      <td>...</td>\n",
       "      <td>...</td>\n",
       "      <td>...</td>\n",
       "      <td>...</td>\n",
       "      <td>...</td>\n",
       "      <td>...</td>\n",
       "      <td>...</td>\n",
       "    </tr>\n",
       "    <tr>\n",
       "      <th>3767</th>\n",
       "      <td>61f15a94e0cb0c134b209e20</td>\n",
       "      <td>-73.986544</td>\n",
       "      <td>40.733770</td>\n",
       "      <td>10003</td>\n",
       "      <td>Café/Coffee/Tea</td>\n",
       "      <td>Manhattan</td>\n",
       "      <td>5</td>\n",
       "    </tr>\n",
       "    <tr>\n",
       "      <th>3768</th>\n",
       "      <td>61f15a94e0cb0c134b209e21</td>\n",
       "      <td>-73.946224</td>\n",
       "      <td>40.656571</td>\n",
       "      <td>11203</td>\n",
       "      <td>Café/Coffee/Tea</td>\n",
       "      <td>Brooklyn</td>\n",
       "      <td>3</td>\n",
       "    </tr>\n",
       "    <tr>\n",
       "      <th>3769</th>\n",
       "      <td>61f15a94e0cb0c134b209e22</td>\n",
       "      <td>-73.983944</td>\n",
       "      <td>40.756111</td>\n",
       "      <td>10036</td>\n",
       "      <td>Japanese</td>\n",
       "      <td>Manhattan</td>\n",
       "      <td>7</td>\n",
       "    </tr>\n",
       "    <tr>\n",
       "      <th>3770</th>\n",
       "      <td>61f15a94e0cb0c134b209e23</td>\n",
       "      <td>-73.986652</td>\n",
       "      <td>40.753641</td>\n",
       "      <td>10018</td>\n",
       "      <td>Sandwiches/Salads/Mixed Buffet</td>\n",
       "      <td>Manhattan</td>\n",
       "      <td>5</td>\n",
       "    </tr>\n",
       "    <tr>\n",
       "      <th>3771</th>\n",
       "      <td>61f15a94e0cb0c134b209e24</td>\n",
       "      <td>-74.025217</td>\n",
       "      <td>40.622463</td>\n",
       "      <td>11209</td>\n",
       "      <td>Chinese</td>\n",
       "      <td>Brooklyn</td>\n",
       "      <td>12</td>\n",
       "    </tr>\n",
       "  </tbody>\n",
       "</table>\n",
       "<p>3772 rows × 7 columns</p>\n",
       "</div>"
      ],
      "text/plain": [
       "                           _id  longitude  lattitude zipcode  \\\n",
       "0     61f15a93e0cb0c134b208f69 -73.856077  40.848447   10462   \n",
       "1     61f15a93e0cb0c134b208f6a -73.961704  40.662942   11225   \n",
       "2     61f15a93e0cb0c134b208f6b -73.985136  40.767692   10019   \n",
       "3     61f15a93e0cb0c134b208f6c -73.982420  40.579505   11224   \n",
       "4     61f15a93e0cb0c134b208f6d -73.860115  40.731174   11374   \n",
       "...                        ...        ...        ...     ...   \n",
       "3767  61f15a94e0cb0c134b209e20 -73.986544  40.733770   10003   \n",
       "3768  61f15a94e0cb0c134b209e21 -73.946224  40.656571   11203   \n",
       "3769  61f15a94e0cb0c134b209e22 -73.983944  40.756111   10036   \n",
       "3770  61f15a94e0cb0c134b209e23 -73.986652  40.753641   10018   \n",
       "3771  61f15a94e0cb0c134b209e24 -74.025217  40.622463   11209   \n",
       "\n",
       "                             cuisine   quartier  notes  \n",
       "0                             Bakery      Bronx      2  \n",
       "1                         Hamburgers   Brooklyn      8  \n",
       "2                              Irish  Manhattan      2  \n",
       "3                          American    Brooklyn      5  \n",
       "4                      Jewish/Kosher     Queens     20  \n",
       "...                              ...        ...    ...  \n",
       "3767                 Café/Coffee/Tea  Manhattan      5  \n",
       "3768                 Café/Coffee/Tea   Brooklyn      3  \n",
       "3769                        Japanese  Manhattan      7  \n",
       "3770  Sandwiches/Salads/Mixed Buffet  Manhattan      5  \n",
       "3771                         Chinese   Brooklyn     12  \n",
       "\n",
       "[3772 rows x 7 columns]"
      ]
     },
     "execution_count": 59,
     "metadata": {},
     "output_type": "execute_result"
    }
   ],
   "source": [
    "import pymongo\n",
    "import pandas as pd\n",
    "from pymongo import MongoClient\n",
    "\n",
    "#MongoDB collection to Pandas dataframe\n",
    "c = MongoClient()\n",
    "db = c.restaurantsdb\n",
    "input_data = db.restau_df\n",
    "df = pd.DataFrame(list(input_data.find()))\n",
    "df"
   ]
  },
  {
   "cell_type": "code",
   "execution_count": 60,
   "metadata": {},
   "outputs": [
    {
     "data": {
      "text/plain": [
       "American            1255\n",
       "Italian              325\n",
       "Pizza                270\n",
       "Café/Coffee/Tea      180\n",
       "Hamburgers           159\n",
       "                    ... \n",
       "CafÃ©/Coffee/Tea       1\n",
       "Moroccan               1\n",
       "Armenian               1\n",
       "Chinese/Japanese       1\n",
       "Salads                 1\n",
       "Name: cuisine, Length: 70, dtype: int64"
      ]
     },
     "execution_count": 60,
     "metadata": {},
     "output_type": "execute_result"
    }
   ],
   "source": [
    "df['cuisine'].value_counts()"
   ]
  },
  {
   "cell_type": "code",
   "execution_count": 61,
   "metadata": {},
   "outputs": [
    {
     "data": {
      "text/plain": [
       "Manhattan        1883\n",
       "Queens            738\n",
       "Brooklyn          684\n",
       "Bronx             309\n",
       "Staten Island     158\n",
       "Name: quartier, dtype: int64"
      ]
     },
     "execution_count": 61,
     "metadata": {},
     "output_type": "execute_result"
    }
   ],
   "source": [
    "df['quartier'].value_counts()"
   ]
  },
  {
   "cell_type": "markdown",
   "metadata": {},
   "source": [
    "##### One Hot Encoding"
   ]
  },
  {
   "cell_type": "code",
   "execution_count": 62,
   "metadata": {},
   "outputs": [
    {
     "data": {
      "text/html": [
       "<div>\n",
       "<style scoped>\n",
       "    .dataframe tbody tr th:only-of-type {\n",
       "        vertical-align: middle;\n",
       "    }\n",
       "\n",
       "    .dataframe tbody tr th {\n",
       "        vertical-align: top;\n",
       "    }\n",
       "\n",
       "    .dataframe thead th {\n",
       "        text-align: right;\n",
       "    }\n",
       "</style>\n",
       "<table border=\"1\" class=\"dataframe\">\n",
       "  <thead>\n",
       "    <tr style=\"text-align: right;\">\n",
       "      <th></th>\n",
       "      <th>_id</th>\n",
       "      <th>longitude</th>\n",
       "      <th>lattitude</th>\n",
       "      <th>zipcode</th>\n",
       "      <th>notes</th>\n",
       "      <th>Afghan</th>\n",
       "      <th>African</th>\n",
       "      <th>American</th>\n",
       "      <th>Armenian</th>\n",
       "      <th>Asian</th>\n",
       "      <th>...</th>\n",
       "      <th>Tex-Mex</th>\n",
       "      <th>Thai</th>\n",
       "      <th>Turkish</th>\n",
       "      <th>Vegetarian</th>\n",
       "      <th>Vietnamese/Cambodian/Malaysia</th>\n",
       "      <th>Bronx</th>\n",
       "      <th>Brooklyn</th>\n",
       "      <th>Manhattan</th>\n",
       "      <th>Queens</th>\n",
       "      <th>Staten Island</th>\n",
       "    </tr>\n",
       "  </thead>\n",
       "  <tbody>\n",
       "    <tr>\n",
       "      <th>0</th>\n",
       "      <td>61f15a93e0cb0c134b208f69</td>\n",
       "      <td>-73.856077</td>\n",
       "      <td>40.848447</td>\n",
       "      <td>10462</td>\n",
       "      <td>2</td>\n",
       "      <td>0</td>\n",
       "      <td>0</td>\n",
       "      <td>0</td>\n",
       "      <td>0</td>\n",
       "      <td>0</td>\n",
       "      <td>...</td>\n",
       "      <td>0</td>\n",
       "      <td>0</td>\n",
       "      <td>0</td>\n",
       "      <td>0</td>\n",
       "      <td>0</td>\n",
       "      <td>1</td>\n",
       "      <td>0</td>\n",
       "      <td>0</td>\n",
       "      <td>0</td>\n",
       "      <td>0</td>\n",
       "    </tr>\n",
       "    <tr>\n",
       "      <th>1</th>\n",
       "      <td>61f15a93e0cb0c134b208f6a</td>\n",
       "      <td>-73.961704</td>\n",
       "      <td>40.662942</td>\n",
       "      <td>11225</td>\n",
       "      <td>8</td>\n",
       "      <td>0</td>\n",
       "      <td>0</td>\n",
       "      <td>0</td>\n",
       "      <td>0</td>\n",
       "      <td>0</td>\n",
       "      <td>...</td>\n",
       "      <td>0</td>\n",
       "      <td>0</td>\n",
       "      <td>0</td>\n",
       "      <td>0</td>\n",
       "      <td>0</td>\n",
       "      <td>0</td>\n",
       "      <td>1</td>\n",
       "      <td>0</td>\n",
       "      <td>0</td>\n",
       "      <td>0</td>\n",
       "    </tr>\n",
       "    <tr>\n",
       "      <th>2</th>\n",
       "      <td>61f15a93e0cb0c134b208f6b</td>\n",
       "      <td>-73.985136</td>\n",
       "      <td>40.767692</td>\n",
       "      <td>10019</td>\n",
       "      <td>2</td>\n",
       "      <td>0</td>\n",
       "      <td>0</td>\n",
       "      <td>0</td>\n",
       "      <td>0</td>\n",
       "      <td>0</td>\n",
       "      <td>...</td>\n",
       "      <td>0</td>\n",
       "      <td>0</td>\n",
       "      <td>0</td>\n",
       "      <td>0</td>\n",
       "      <td>0</td>\n",
       "      <td>0</td>\n",
       "      <td>0</td>\n",
       "      <td>1</td>\n",
       "      <td>0</td>\n",
       "      <td>0</td>\n",
       "    </tr>\n",
       "    <tr>\n",
       "      <th>3</th>\n",
       "      <td>61f15a93e0cb0c134b208f6c</td>\n",
       "      <td>-73.982420</td>\n",
       "      <td>40.579505</td>\n",
       "      <td>11224</td>\n",
       "      <td>5</td>\n",
       "      <td>0</td>\n",
       "      <td>0</td>\n",
       "      <td>1</td>\n",
       "      <td>0</td>\n",
       "      <td>0</td>\n",
       "      <td>...</td>\n",
       "      <td>0</td>\n",
       "      <td>0</td>\n",
       "      <td>0</td>\n",
       "      <td>0</td>\n",
       "      <td>0</td>\n",
       "      <td>0</td>\n",
       "      <td>1</td>\n",
       "      <td>0</td>\n",
       "      <td>0</td>\n",
       "      <td>0</td>\n",
       "    </tr>\n",
       "    <tr>\n",
       "      <th>4</th>\n",
       "      <td>61f15a93e0cb0c134b208f6d</td>\n",
       "      <td>-73.860115</td>\n",
       "      <td>40.731174</td>\n",
       "      <td>11374</td>\n",
       "      <td>20</td>\n",
       "      <td>0</td>\n",
       "      <td>0</td>\n",
       "      <td>0</td>\n",
       "      <td>0</td>\n",
       "      <td>0</td>\n",
       "      <td>...</td>\n",
       "      <td>0</td>\n",
       "      <td>0</td>\n",
       "      <td>0</td>\n",
       "      <td>0</td>\n",
       "      <td>0</td>\n",
       "      <td>0</td>\n",
       "      <td>0</td>\n",
       "      <td>0</td>\n",
       "      <td>1</td>\n",
       "      <td>0</td>\n",
       "    </tr>\n",
       "  </tbody>\n",
       "</table>\n",
       "<p>5 rows × 80 columns</p>\n",
       "</div>"
      ],
      "text/plain": [
       "                        _id  longitude  lattitude zipcode  notes  Afghan  \\\n",
       "0  61f15a93e0cb0c134b208f69 -73.856077  40.848447   10462      2       0   \n",
       "1  61f15a93e0cb0c134b208f6a -73.961704  40.662942   11225      8       0   \n",
       "2  61f15a93e0cb0c134b208f6b -73.985136  40.767692   10019      2       0   \n",
       "3  61f15a93e0cb0c134b208f6c -73.982420  40.579505   11224      5       0   \n",
       "4  61f15a93e0cb0c134b208f6d -73.860115  40.731174   11374     20       0   \n",
       "\n",
       "   African  American   Armenian  Asian  ...  Tex-Mex  Thai  Turkish  \\\n",
       "0        0          0         0      0  ...        0     0        0   \n",
       "1        0          0         0      0  ...        0     0        0   \n",
       "2        0          0         0      0  ...        0     0        0   \n",
       "3        0          1         0      0  ...        0     0        0   \n",
       "4        0          0         0      0  ...        0     0        0   \n",
       "\n",
       "   Vegetarian  Vietnamese/Cambodian/Malaysia  Bronx  Brooklyn  Manhattan  \\\n",
       "0           0                              0      1         0          0   \n",
       "1           0                              0      0         1          0   \n",
       "2           0                              0      0         0          1   \n",
       "3           0                              0      0         1          0   \n",
       "4           0                              0      0         0          0   \n",
       "\n",
       "   Queens  Staten Island  \n",
       "0       0              0  \n",
       "1       0              0  \n",
       "2       0              0  \n",
       "3       0              0  \n",
       "4       1              0  \n",
       "\n",
       "[5 rows x 80 columns]"
      ]
     },
     "execution_count": 62,
     "metadata": {},
     "output_type": "execute_result"
    }
   ],
   "source": [
    "# Get one hot encoding of columns cusine\n",
    "cuisine = pd.get_dummies(df['cuisine'])\n",
    "del df['cuisine']\n",
    "df = df.join(cuisine)\n",
    "\n",
    "# Get one hot encoding of columns quartier\n",
    "quartier = pd.get_dummies(df['quartier'])\n",
    "del df['quartier']\n",
    "df = df.join(quartier)\n",
    "df.head()"
   ]
  },
  {
   "cell_type": "code",
   "execution_count": 63,
   "metadata": {},
   "outputs": [
    {
     "data": {
      "text/plain": [
       "(3772, 80)"
      ]
     },
     "execution_count": 63,
     "metadata": {},
     "output_type": "execute_result"
    }
   ],
   "source": [
    "df.shape"
   ]
  },
  {
   "cell_type": "code",
   "execution_count": 64,
   "metadata": {},
   "outputs": [
    {
     "data": {
      "text/html": [
       "<div>\n",
       "<style scoped>\n",
       "    .dataframe tbody tr th:only-of-type {\n",
       "        vertical-align: middle;\n",
       "    }\n",
       "\n",
       "    .dataframe tbody tr th {\n",
       "        vertical-align: top;\n",
       "    }\n",
       "\n",
       "    .dataframe thead th {\n",
       "        text-align: right;\n",
       "    }\n",
       "</style>\n",
       "<table border=\"1\" class=\"dataframe\">\n",
       "  <thead>\n",
       "    <tr style=\"text-align: right;\">\n",
       "      <th></th>\n",
       "      <th>_id</th>\n",
       "      <th>longitude</th>\n",
       "      <th>lattitude</th>\n",
       "      <th>zipcode</th>\n",
       "      <th>Afghan</th>\n",
       "      <th>African</th>\n",
       "      <th>American</th>\n",
       "      <th>Armenian</th>\n",
       "      <th>Asian</th>\n",
       "      <th>Bagels/Pretzels</th>\n",
       "      <th>...</th>\n",
       "      <th>Thai</th>\n",
       "      <th>Turkish</th>\n",
       "      <th>Vegetarian</th>\n",
       "      <th>Vietnamese/Cambodian/Malaysia</th>\n",
       "      <th>Bronx</th>\n",
       "      <th>Brooklyn</th>\n",
       "      <th>Manhattan</th>\n",
       "      <th>Queens</th>\n",
       "      <th>Staten Island</th>\n",
       "      <th>notes</th>\n",
       "    </tr>\n",
       "  </thead>\n",
       "  <tbody>\n",
       "    <tr>\n",
       "      <th>0</th>\n",
       "      <td>61f15a93e0cb0c134b208f69</td>\n",
       "      <td>-73.856077</td>\n",
       "      <td>40.848447</td>\n",
       "      <td>10462</td>\n",
       "      <td>0</td>\n",
       "      <td>0</td>\n",
       "      <td>0</td>\n",
       "      <td>0</td>\n",
       "      <td>0</td>\n",
       "      <td>0</td>\n",
       "      <td>...</td>\n",
       "      <td>0</td>\n",
       "      <td>0</td>\n",
       "      <td>0</td>\n",
       "      <td>0</td>\n",
       "      <td>1</td>\n",
       "      <td>0</td>\n",
       "      <td>0</td>\n",
       "      <td>0</td>\n",
       "      <td>0</td>\n",
       "      <td>2</td>\n",
       "    </tr>\n",
       "    <tr>\n",
       "      <th>1</th>\n",
       "      <td>61f15a93e0cb0c134b208f6a</td>\n",
       "      <td>-73.961704</td>\n",
       "      <td>40.662942</td>\n",
       "      <td>11225</td>\n",
       "      <td>0</td>\n",
       "      <td>0</td>\n",
       "      <td>0</td>\n",
       "      <td>0</td>\n",
       "      <td>0</td>\n",
       "      <td>0</td>\n",
       "      <td>...</td>\n",
       "      <td>0</td>\n",
       "      <td>0</td>\n",
       "      <td>0</td>\n",
       "      <td>0</td>\n",
       "      <td>0</td>\n",
       "      <td>1</td>\n",
       "      <td>0</td>\n",
       "      <td>0</td>\n",
       "      <td>0</td>\n",
       "      <td>8</td>\n",
       "    </tr>\n",
       "    <tr>\n",
       "      <th>2</th>\n",
       "      <td>61f15a93e0cb0c134b208f6b</td>\n",
       "      <td>-73.985136</td>\n",
       "      <td>40.767692</td>\n",
       "      <td>10019</td>\n",
       "      <td>0</td>\n",
       "      <td>0</td>\n",
       "      <td>0</td>\n",
       "      <td>0</td>\n",
       "      <td>0</td>\n",
       "      <td>0</td>\n",
       "      <td>...</td>\n",
       "      <td>0</td>\n",
       "      <td>0</td>\n",
       "      <td>0</td>\n",
       "      <td>0</td>\n",
       "      <td>0</td>\n",
       "      <td>0</td>\n",
       "      <td>1</td>\n",
       "      <td>0</td>\n",
       "      <td>0</td>\n",
       "      <td>2</td>\n",
       "    </tr>\n",
       "    <tr>\n",
       "      <th>3</th>\n",
       "      <td>61f15a93e0cb0c134b208f6c</td>\n",
       "      <td>-73.982420</td>\n",
       "      <td>40.579505</td>\n",
       "      <td>11224</td>\n",
       "      <td>0</td>\n",
       "      <td>0</td>\n",
       "      <td>1</td>\n",
       "      <td>0</td>\n",
       "      <td>0</td>\n",
       "      <td>0</td>\n",
       "      <td>...</td>\n",
       "      <td>0</td>\n",
       "      <td>0</td>\n",
       "      <td>0</td>\n",
       "      <td>0</td>\n",
       "      <td>0</td>\n",
       "      <td>1</td>\n",
       "      <td>0</td>\n",
       "      <td>0</td>\n",
       "      <td>0</td>\n",
       "      <td>5</td>\n",
       "    </tr>\n",
       "    <tr>\n",
       "      <th>4</th>\n",
       "      <td>61f15a93e0cb0c134b208f6d</td>\n",
       "      <td>-73.860115</td>\n",
       "      <td>40.731174</td>\n",
       "      <td>11374</td>\n",
       "      <td>0</td>\n",
       "      <td>0</td>\n",
       "      <td>0</td>\n",
       "      <td>0</td>\n",
       "      <td>0</td>\n",
       "      <td>0</td>\n",
       "      <td>...</td>\n",
       "      <td>0</td>\n",
       "      <td>0</td>\n",
       "      <td>0</td>\n",
       "      <td>0</td>\n",
       "      <td>0</td>\n",
       "      <td>0</td>\n",
       "      <td>0</td>\n",
       "      <td>1</td>\n",
       "      <td>0</td>\n",
       "      <td>20</td>\n",
       "    </tr>\n",
       "  </tbody>\n",
       "</table>\n",
       "<p>5 rows × 80 columns</p>\n",
       "</div>"
      ],
      "text/plain": [
       "                        _id  longitude  lattitude zipcode  Afghan  African  \\\n",
       "0  61f15a93e0cb0c134b208f69 -73.856077  40.848447   10462       0        0   \n",
       "1  61f15a93e0cb0c134b208f6a -73.961704  40.662942   11225       0        0   \n",
       "2  61f15a93e0cb0c134b208f6b -73.985136  40.767692   10019       0        0   \n",
       "3  61f15a93e0cb0c134b208f6c -73.982420  40.579505   11224       0        0   \n",
       "4  61f15a93e0cb0c134b208f6d -73.860115  40.731174   11374       0        0   \n",
       "\n",
       "   American   Armenian  Asian  Bagels/Pretzels  ...  Thai  Turkish  \\\n",
       "0          0         0      0                0  ...     0        0   \n",
       "1          0         0      0                0  ...     0        0   \n",
       "2          0         0      0                0  ...     0        0   \n",
       "3          1         0      0                0  ...     0        0   \n",
       "4          0         0      0                0  ...     0        0   \n",
       "\n",
       "   Vegetarian  Vietnamese/Cambodian/Malaysia  Bronx  Brooklyn  Manhattan  \\\n",
       "0           0                              0      1         0          0   \n",
       "1           0                              0      0         1          0   \n",
       "2           0                              0      0         0          1   \n",
       "3           0                              0      0         1          0   \n",
       "4           0                              0      0         0          0   \n",
       "\n",
       "   Queens  Staten Island  notes  \n",
       "0       0              0      2  \n",
       "1       0              0      8  \n",
       "2       0              0      2  \n",
       "3       0              0      5  \n",
       "4       1              0     20  \n",
       "\n",
       "[5 rows x 80 columns]"
      ]
     },
     "execution_count": 64,
     "metadata": {},
     "output_type": "execute_result"
    }
   ],
   "source": [
    "# column notes to last position\n",
    "notes = df['notes']\n",
    "del df['notes']\n",
    "df.insert(loc=79, column='notes', value=notes)\n",
    "df.head()"
   ]
  },
  {
   "cell_type": "code",
   "execution_count": 65,
   "metadata": {},
   "outputs": [
    {
     "data": {
      "text/html": [
       "<div>\n",
       "<style scoped>\n",
       "    .dataframe tbody tr th:only-of-type {\n",
       "        vertical-align: middle;\n",
       "    }\n",
       "\n",
       "    .dataframe tbody tr th {\n",
       "        vertical-align: top;\n",
       "    }\n",
       "\n",
       "    .dataframe thead th {\n",
       "        text-align: right;\n",
       "    }\n",
       "</style>\n",
       "<table border=\"1\" class=\"dataframe\">\n",
       "  <thead>\n",
       "    <tr style=\"text-align: right;\">\n",
       "      <th></th>\n",
       "      <th>longitude</th>\n",
       "      <th>lattitude</th>\n",
       "      <th>zipcode</th>\n",
       "      <th>Afghan</th>\n",
       "      <th>African</th>\n",
       "      <th>American</th>\n",
       "      <th>Armenian</th>\n",
       "      <th>Asian</th>\n",
       "      <th>Bagels/Pretzels</th>\n",
       "      <th>Bakery</th>\n",
       "      <th>...</th>\n",
       "      <th>Thai</th>\n",
       "      <th>Turkish</th>\n",
       "      <th>Vegetarian</th>\n",
       "      <th>Vietnamese/Cambodian/Malaysia</th>\n",
       "      <th>Bronx</th>\n",
       "      <th>Brooklyn</th>\n",
       "      <th>Manhattan</th>\n",
       "      <th>Queens</th>\n",
       "      <th>Staten Island</th>\n",
       "      <th>notes</th>\n",
       "    </tr>\n",
       "  </thead>\n",
       "  <tbody>\n",
       "    <tr>\n",
       "      <th>0</th>\n",
       "      <td>-73.856077</td>\n",
       "      <td>40.848447</td>\n",
       "      <td>10462</td>\n",
       "      <td>0</td>\n",
       "      <td>0</td>\n",
       "      <td>0</td>\n",
       "      <td>0</td>\n",
       "      <td>0</td>\n",
       "      <td>0</td>\n",
       "      <td>1</td>\n",
       "      <td>...</td>\n",
       "      <td>0</td>\n",
       "      <td>0</td>\n",
       "      <td>0</td>\n",
       "      <td>0</td>\n",
       "      <td>1</td>\n",
       "      <td>0</td>\n",
       "      <td>0</td>\n",
       "      <td>0</td>\n",
       "      <td>0</td>\n",
       "      <td>2</td>\n",
       "    </tr>\n",
       "    <tr>\n",
       "      <th>1</th>\n",
       "      <td>-73.961704</td>\n",
       "      <td>40.662942</td>\n",
       "      <td>11225</td>\n",
       "      <td>0</td>\n",
       "      <td>0</td>\n",
       "      <td>0</td>\n",
       "      <td>0</td>\n",
       "      <td>0</td>\n",
       "      <td>0</td>\n",
       "      <td>0</td>\n",
       "      <td>...</td>\n",
       "      <td>0</td>\n",
       "      <td>0</td>\n",
       "      <td>0</td>\n",
       "      <td>0</td>\n",
       "      <td>0</td>\n",
       "      <td>1</td>\n",
       "      <td>0</td>\n",
       "      <td>0</td>\n",
       "      <td>0</td>\n",
       "      <td>8</td>\n",
       "    </tr>\n",
       "    <tr>\n",
       "      <th>2</th>\n",
       "      <td>-73.985136</td>\n",
       "      <td>40.767692</td>\n",
       "      <td>10019</td>\n",
       "      <td>0</td>\n",
       "      <td>0</td>\n",
       "      <td>0</td>\n",
       "      <td>0</td>\n",
       "      <td>0</td>\n",
       "      <td>0</td>\n",
       "      <td>0</td>\n",
       "      <td>...</td>\n",
       "      <td>0</td>\n",
       "      <td>0</td>\n",
       "      <td>0</td>\n",
       "      <td>0</td>\n",
       "      <td>0</td>\n",
       "      <td>0</td>\n",
       "      <td>1</td>\n",
       "      <td>0</td>\n",
       "      <td>0</td>\n",
       "      <td>2</td>\n",
       "    </tr>\n",
       "    <tr>\n",
       "      <th>3</th>\n",
       "      <td>-73.982420</td>\n",
       "      <td>40.579505</td>\n",
       "      <td>11224</td>\n",
       "      <td>0</td>\n",
       "      <td>0</td>\n",
       "      <td>1</td>\n",
       "      <td>0</td>\n",
       "      <td>0</td>\n",
       "      <td>0</td>\n",
       "      <td>0</td>\n",
       "      <td>...</td>\n",
       "      <td>0</td>\n",
       "      <td>0</td>\n",
       "      <td>0</td>\n",
       "      <td>0</td>\n",
       "      <td>0</td>\n",
       "      <td>1</td>\n",
       "      <td>0</td>\n",
       "      <td>0</td>\n",
       "      <td>0</td>\n",
       "      <td>5</td>\n",
       "    </tr>\n",
       "    <tr>\n",
       "      <th>4</th>\n",
       "      <td>-73.860115</td>\n",
       "      <td>40.731174</td>\n",
       "      <td>11374</td>\n",
       "      <td>0</td>\n",
       "      <td>0</td>\n",
       "      <td>0</td>\n",
       "      <td>0</td>\n",
       "      <td>0</td>\n",
       "      <td>0</td>\n",
       "      <td>0</td>\n",
       "      <td>...</td>\n",
       "      <td>0</td>\n",
       "      <td>0</td>\n",
       "      <td>0</td>\n",
       "      <td>0</td>\n",
       "      <td>0</td>\n",
       "      <td>0</td>\n",
       "      <td>0</td>\n",
       "      <td>1</td>\n",
       "      <td>0</td>\n",
       "      <td>20</td>\n",
       "    </tr>\n",
       "  </tbody>\n",
       "</table>\n",
       "<p>5 rows × 79 columns</p>\n",
       "</div>"
      ],
      "text/plain": [
       "   longitude  lattitude zipcode  Afghan  African  American   Armenian  Asian  \\\n",
       "0 -73.856077  40.848447   10462       0        0          0         0      0   \n",
       "1 -73.961704  40.662942   11225       0        0          0         0      0   \n",
       "2 -73.985136  40.767692   10019       0        0          0         0      0   \n",
       "3 -73.982420  40.579505   11224       0        0          1         0      0   \n",
       "4 -73.860115  40.731174   11374       0        0          0         0      0   \n",
       "\n",
       "   Bagels/Pretzels  Bakery  ...  Thai  Turkish  Vegetarian  \\\n",
       "0                0       1  ...     0        0           0   \n",
       "1                0       0  ...     0        0           0   \n",
       "2                0       0  ...     0        0           0   \n",
       "3                0       0  ...     0        0           0   \n",
       "4                0       0  ...     0        0           0   \n",
       "\n",
       "   Vietnamese/Cambodian/Malaysia  Bronx  Brooklyn  Manhattan  Queens  \\\n",
       "0                              0      1         0          0       0   \n",
       "1                              0      0         1          0       0   \n",
       "2                              0      0         0          1       0   \n",
       "3                              0      0         1          0       0   \n",
       "4                              0      0         0          0       1   \n",
       "\n",
       "   Staten Island  notes  \n",
       "0              0      2  \n",
       "1              0      8  \n",
       "2              0      2  \n",
       "3              0      5  \n",
       "4              0     20  \n",
       "\n",
       "[5 rows x 79 columns]"
      ]
     },
     "execution_count": 65,
     "metadata": {},
     "output_type": "execute_result"
    }
   ],
   "source": [
    "del df['_id']\n",
    "df.head()"
   ]
  },
  {
   "cell_type": "code",
   "execution_count": 66,
   "metadata": {},
   "outputs": [],
   "source": [
    "X = df.iloc[:, :-1]\n",
    "y = df.iloc[:, -1]"
   ]
  },
  {
   "cell_type": "markdown",
   "metadata": {},
   "source": [
    "##### Gradient Descent"
   ]
  },
  {
   "cell_type": "code",
   "execution_count": 67,
   "metadata": {},
   "outputs": [],
   "source": [
    "import numpy as np\n",
    "\n",
    "class GradientDescentLinearRegression:\n",
    "    def __init__(self, learning_rate=0.01, iterations=1000):\n",
    "        self.learning_rate, self.iterations = learning_rate, iterations\n",
    "    \n",
    "    def fit(self, X, y):\n",
    "        b = 0\n",
    "        m = 5\n",
    "        n = X.shape[0]\n",
    "        for _ in range(self.iterations):\n",
    "            b_gradient = -2 * np.sum(y - m*X + b) / n\n",
    "            m_gradient = -2 * np.sum(X*(y - (m*X + b))) / n\n",
    "            b = b + (self.learning_rate * b_gradient)\n",
    "            m = m - (self.learning_rate * m_gradient)\n",
    "        self.m, self.b = m, b\n",
    "        \n",
    "    def predict(self, X):\n",
    "        return self.m*X + self.b"
   ]
  },
  {
   "cell_type": "markdown",
   "metadata": {},
   "source": [
    "##### Regression Lasso"
   ]
  },
  {
   "cell_type": "code",
   "execution_count": null,
   "metadata": {},
   "outputs": [
    {
     "name": "stdout",
     "output_type": "stream",
     "text": [
      "MAE: -3.703\n",
      "Config: {'alpha': 0.02}\n"
     ]
    }
   ],
   "source": [
    "from numpy import arange\n",
    "from sklearn.model_selection import GridSearchCV\n",
    "from sklearn.model_selection import RepeatedKFold\n",
    "from sklearn.linear_model import Lasso\n",
    "from sklearn.model_selection import train_test_split\n",
    "\n",
    "X_train, X_test, y_train, y_test = train_test_split(X, y, test_size=0.3, random_state=42)\n",
    "data_train_df = (X_train, y_train)\n",
    "data_test_df = (X_test, y_test)\n",
    "\n",
    "# define model\n",
    "model = Lasso()\n",
    "# define model evaluation method\n",
    "cv = RepeatedKFold(n_splits=10, n_repeats=3, random_state=1)\n",
    "# define grid\n",
    "grid = dict()\n",
    "grid['alpha'] = arange(0, 1, 0.01)\n",
    "# define search\n",
    "search = GridSearchCV(model, grid, scoring='neg_mean_absolute_error', cv=cv, n_jobs=-1)\n",
    "# perform the search\n",
    "results = search.fit(X_train, y_train)\n",
    "# summarize\n",
    "print('MAE: %.3f' % results.best_score_)\n",
    "print('Config: %s' % results.best_params_)"
   ]
  },
  {
   "cell_type": "code",
   "execution_count": null,
   "metadata": {},
   "outputs": [
    {
     "data": {
      "text/plain": [
       "array([10.40886072, 11.08708772, 10.61631939, ..., 11.02104205,\n",
       "       11.45901402, 10.61677938])"
      ]
     },
     "execution_count": 28,
     "metadata": {},
     "output_type": "execute_result"
    }
   ],
   "source": [
    "y_pred = search.predict(X_test)\n",
    "y_pred"
   ]
  },
  {
   "cell_type": "code",
   "execution_count": null,
   "metadata": {},
   "outputs": [
    {
     "data": {
      "text/plain": [
       "3.736500399798486"
      ]
     },
     "execution_count": 29,
     "metadata": {},
     "output_type": "execute_result"
    }
   ],
   "source": [
    "import numpy as np\n",
    "from sklearn.metrics import mean_absolute_error\n",
    "\n",
    "array_y_test = np.array(y_test)\n",
    "# calculate errors\n",
    "mae = mean_absolute_error(array_y_test, y_pred)\n",
    "mae"
   ]
  },
  {
   "cell_type": "code",
   "execution_count": null,
   "metadata": {},
   "outputs": [
    {
     "data": {
      "text/plain": [
       "37.005422358443376"
      ]
     },
     "execution_count": 30,
     "metadata": {},
     "output_type": "execute_result"
    }
   ],
   "source": [
    "from sklearn.metrics import mean_squared_error\n",
    "# calculate errors\n",
    "mse = mean_squared_error(array_y_test, y_pred)\n",
    "mse"
   ]
  },
  {
   "cell_type": "code",
   "execution_count": null,
   "metadata": {},
   "outputs": [
    {
     "data": {
      "text/plain": [
       "6.083208229087952"
      ]
     },
     "execution_count": 31,
     "metadata": {},
     "output_type": "execute_result"
    }
   ],
   "source": [
    "from sklearn.metrics import mean_squared_error\n",
    "# calculate errors\n",
    "rmse = mean_squared_error(array_y_test, y_pred, squared=False)\n",
    "rmse"
   ]
  },
  {
   "cell_type": "markdown",
   "metadata": {},
   "source": [
    "##### ElasticNet"
   ]
  },
  {
   "cell_type": "code",
   "execution_count": null,
   "metadata": {},
   "outputs": [
    {
     "ename": "KeyboardInterrupt",
     "evalue": "",
     "output_type": "error",
     "traceback": [
      "\u001b[1;31m---------------------------------------------------------------------------\u001b[0m",
      "\u001b[1;31mKeyboardInterrupt\u001b[0m                         Traceback (most recent call last)",
      "Input \u001b[1;32mIn [34]\u001b[0m, in \u001b[0;36m<module>\u001b[1;34m\u001b[0m\n\u001b[0;32m     16\u001b[0m search \u001b[38;5;241m=\u001b[39m GridSearchCV(model, grid, scoring\u001b[38;5;241m=\u001b[39m\u001b[38;5;124m'\u001b[39m\u001b[38;5;124mneg_mean_absolute_error\u001b[39m\u001b[38;5;124m'\u001b[39m, cv\u001b[38;5;241m=\u001b[39mcv, n_jobs\u001b[38;5;241m=\u001b[39m\u001b[38;5;241m-\u001b[39m\u001b[38;5;241m1\u001b[39m)\n\u001b[0;32m     17\u001b[0m \u001b[38;5;66;03m# perform the search\u001b[39;00m\n\u001b[1;32m---> 18\u001b[0m results \u001b[38;5;241m=\u001b[39m \u001b[43msearch\u001b[49m\u001b[38;5;241;43m.\u001b[39;49m\u001b[43mfit\u001b[49m\u001b[43m(\u001b[49m\u001b[43mX_train\u001b[49m\u001b[43m,\u001b[49m\u001b[43m \u001b[49m\u001b[43my_train\u001b[49m\u001b[43m)\u001b[49m\n\u001b[0;32m     19\u001b[0m \u001b[38;5;66;03m# summarize\u001b[39;00m\n\u001b[0;32m     20\u001b[0m \u001b[38;5;28mprint\u001b[39m(\u001b[38;5;124m'\u001b[39m\u001b[38;5;124mMAE: \u001b[39m\u001b[38;5;132;01m%.3f\u001b[39;00m\u001b[38;5;124m'\u001b[39m \u001b[38;5;241m%\u001b[39m results\u001b[38;5;241m.\u001b[39mbest_score_)\n",
      "File \u001b[1;32mC:\\Python\\lib\\site-packages\\sklearn\\model_selection\\_search.py:891\u001b[0m, in \u001b[0;36mBaseSearchCV.fit\u001b[1;34m(self, X, y, groups, **fit_params)\u001b[0m\n\u001b[0;32m    885\u001b[0m     results \u001b[38;5;241m=\u001b[39m \u001b[38;5;28mself\u001b[39m\u001b[38;5;241m.\u001b[39m_format_results(\n\u001b[0;32m    886\u001b[0m         all_candidate_params, n_splits, all_out, all_more_results\n\u001b[0;32m    887\u001b[0m     )\n\u001b[0;32m    889\u001b[0m     \u001b[38;5;28;01mreturn\u001b[39;00m results\n\u001b[1;32m--> 891\u001b[0m \u001b[38;5;28;43mself\u001b[39;49m\u001b[38;5;241;43m.\u001b[39;49m\u001b[43m_run_search\u001b[49m\u001b[43m(\u001b[49m\u001b[43mevaluate_candidates\u001b[49m\u001b[43m)\u001b[49m\n\u001b[0;32m    893\u001b[0m \u001b[38;5;66;03m# multimetric is determined here because in the case of a callable\u001b[39;00m\n\u001b[0;32m    894\u001b[0m \u001b[38;5;66;03m# self.scoring the return type is only known after calling\u001b[39;00m\n\u001b[0;32m    895\u001b[0m first_test_score \u001b[38;5;241m=\u001b[39m all_out[\u001b[38;5;241m0\u001b[39m][\u001b[38;5;124m\"\u001b[39m\u001b[38;5;124mtest_scores\u001b[39m\u001b[38;5;124m\"\u001b[39m]\n",
      "File \u001b[1;32mC:\\Python\\lib\\site-packages\\sklearn\\model_selection\\_search.py:1392\u001b[0m, in \u001b[0;36mGridSearchCV._run_search\u001b[1;34m(self, evaluate_candidates)\u001b[0m\n\u001b[0;32m   1390\u001b[0m \u001b[38;5;28;01mdef\u001b[39;00m \u001b[38;5;21m_run_search\u001b[39m(\u001b[38;5;28mself\u001b[39m, evaluate_candidates):\n\u001b[0;32m   1391\u001b[0m     \u001b[38;5;124;03m\"\"\"Search all candidates in param_grid\"\"\"\u001b[39;00m\n\u001b[1;32m-> 1392\u001b[0m     \u001b[43mevaluate_candidates\u001b[49m\u001b[43m(\u001b[49m\u001b[43mParameterGrid\u001b[49m\u001b[43m(\u001b[49m\u001b[38;5;28;43mself\u001b[39;49m\u001b[38;5;241;43m.\u001b[39;49m\u001b[43mparam_grid\u001b[49m\u001b[43m)\u001b[49m\u001b[43m)\u001b[49m\n",
      "File \u001b[1;32mC:\\Python\\lib\\site-packages\\sklearn\\model_selection\\_search.py:838\u001b[0m, in \u001b[0;36mBaseSearchCV.fit.<locals>.evaluate_candidates\u001b[1;34m(candidate_params, cv, more_results)\u001b[0m\n\u001b[0;32m    830\u001b[0m \u001b[38;5;28;01mif\u001b[39;00m \u001b[38;5;28mself\u001b[39m\u001b[38;5;241m.\u001b[39mverbose \u001b[38;5;241m>\u001b[39m \u001b[38;5;241m0\u001b[39m:\n\u001b[0;32m    831\u001b[0m     \u001b[38;5;28mprint\u001b[39m(\n\u001b[0;32m    832\u001b[0m         \u001b[38;5;124m\"\u001b[39m\u001b[38;5;124mFitting \u001b[39m\u001b[38;5;132;01m{0}\u001b[39;00m\u001b[38;5;124m folds for each of \u001b[39m\u001b[38;5;132;01m{1}\u001b[39;00m\u001b[38;5;124m candidates,\u001b[39m\u001b[38;5;124m\"\u001b[39m\n\u001b[0;32m    833\u001b[0m         \u001b[38;5;124m\"\u001b[39m\u001b[38;5;124m totalling \u001b[39m\u001b[38;5;132;01m{2}\u001b[39;00m\u001b[38;5;124m fits\u001b[39m\u001b[38;5;124m\"\u001b[39m\u001b[38;5;241m.\u001b[39mformat(\n\u001b[0;32m    834\u001b[0m             n_splits, n_candidates, n_candidates \u001b[38;5;241m*\u001b[39m n_splits\n\u001b[0;32m    835\u001b[0m         )\n\u001b[0;32m    836\u001b[0m     )\n\u001b[1;32m--> 838\u001b[0m out \u001b[38;5;241m=\u001b[39m \u001b[43mparallel\u001b[49m\u001b[43m(\u001b[49m\n\u001b[0;32m    839\u001b[0m \u001b[43m    \u001b[49m\u001b[43mdelayed\u001b[49m\u001b[43m(\u001b[49m\u001b[43m_fit_and_score\u001b[49m\u001b[43m)\u001b[49m\u001b[43m(\u001b[49m\n\u001b[0;32m    840\u001b[0m \u001b[43m        \u001b[49m\u001b[43mclone\u001b[49m\u001b[43m(\u001b[49m\u001b[43mbase_estimator\u001b[49m\u001b[43m)\u001b[49m\u001b[43m,\u001b[49m\n\u001b[0;32m    841\u001b[0m \u001b[43m        \u001b[49m\u001b[43mX\u001b[49m\u001b[43m,\u001b[49m\n\u001b[0;32m    842\u001b[0m \u001b[43m        \u001b[49m\u001b[43my\u001b[49m\u001b[43m,\u001b[49m\n\u001b[0;32m    843\u001b[0m \u001b[43m        \u001b[49m\u001b[43mtrain\u001b[49m\u001b[38;5;241;43m=\u001b[39;49m\u001b[43mtrain\u001b[49m\u001b[43m,\u001b[49m\n\u001b[0;32m    844\u001b[0m \u001b[43m        \u001b[49m\u001b[43mtest\u001b[49m\u001b[38;5;241;43m=\u001b[39;49m\u001b[43mtest\u001b[49m\u001b[43m,\u001b[49m\n\u001b[0;32m    845\u001b[0m \u001b[43m        \u001b[49m\u001b[43mparameters\u001b[49m\u001b[38;5;241;43m=\u001b[39;49m\u001b[43mparameters\u001b[49m\u001b[43m,\u001b[49m\n\u001b[0;32m    846\u001b[0m \u001b[43m        \u001b[49m\u001b[43msplit_progress\u001b[49m\u001b[38;5;241;43m=\u001b[39;49m\u001b[43m(\u001b[49m\u001b[43msplit_idx\u001b[49m\u001b[43m,\u001b[49m\u001b[43m \u001b[49m\u001b[43mn_splits\u001b[49m\u001b[43m)\u001b[49m\u001b[43m,\u001b[49m\n\u001b[0;32m    847\u001b[0m \u001b[43m        \u001b[49m\u001b[43mcandidate_progress\u001b[49m\u001b[38;5;241;43m=\u001b[39;49m\u001b[43m(\u001b[49m\u001b[43mcand_idx\u001b[49m\u001b[43m,\u001b[49m\u001b[43m \u001b[49m\u001b[43mn_candidates\u001b[49m\u001b[43m)\u001b[49m\u001b[43m,\u001b[49m\n\u001b[0;32m    848\u001b[0m \u001b[43m        \u001b[49m\u001b[38;5;241;43m*\u001b[39;49m\u001b[38;5;241;43m*\u001b[39;49m\u001b[43mfit_and_score_kwargs\u001b[49m\u001b[43m,\u001b[49m\n\u001b[0;32m    849\u001b[0m \u001b[43m    \u001b[49m\u001b[43m)\u001b[49m\n\u001b[0;32m    850\u001b[0m \u001b[43m    \u001b[49m\u001b[38;5;28;43;01mfor\u001b[39;49;00m\u001b[43m \u001b[49m\u001b[43m(\u001b[49m\u001b[43mcand_idx\u001b[49m\u001b[43m,\u001b[49m\u001b[43m \u001b[49m\u001b[43mparameters\u001b[49m\u001b[43m)\u001b[49m\u001b[43m,\u001b[49m\u001b[43m \u001b[49m\u001b[43m(\u001b[49m\u001b[43msplit_idx\u001b[49m\u001b[43m,\u001b[49m\u001b[43m \u001b[49m\u001b[43m(\u001b[49m\u001b[43mtrain\u001b[49m\u001b[43m,\u001b[49m\u001b[43m \u001b[49m\u001b[43mtest\u001b[49m\u001b[43m)\u001b[49m\u001b[43m)\u001b[49m\u001b[43m \u001b[49m\u001b[38;5;129;43;01min\u001b[39;49;00m\u001b[43m \u001b[49m\u001b[43mproduct\u001b[49m\u001b[43m(\u001b[49m\n\u001b[0;32m    851\u001b[0m \u001b[43m        \u001b[49m\u001b[38;5;28;43menumerate\u001b[39;49m\u001b[43m(\u001b[49m\u001b[43mcandidate_params\u001b[49m\u001b[43m)\u001b[49m\u001b[43m,\u001b[49m\u001b[43m \u001b[49m\u001b[38;5;28;43menumerate\u001b[39;49m\u001b[43m(\u001b[49m\u001b[43mcv\u001b[49m\u001b[38;5;241;43m.\u001b[39;49m\u001b[43msplit\u001b[49m\u001b[43m(\u001b[49m\u001b[43mX\u001b[49m\u001b[43m,\u001b[49m\u001b[43m \u001b[49m\u001b[43my\u001b[49m\u001b[43m,\u001b[49m\u001b[43m \u001b[49m\u001b[43mgroups\u001b[49m\u001b[43m)\u001b[49m\u001b[43m)\u001b[49m\n\u001b[0;32m    852\u001b[0m \u001b[43m    \u001b[49m\u001b[43m)\u001b[49m\n\u001b[0;32m    853\u001b[0m \u001b[43m\u001b[49m\u001b[43m)\u001b[49m\n\u001b[0;32m    855\u001b[0m \u001b[38;5;28;01mif\u001b[39;00m \u001b[38;5;28mlen\u001b[39m(out) \u001b[38;5;241m<\u001b[39m \u001b[38;5;241m1\u001b[39m:\n\u001b[0;32m    856\u001b[0m     \u001b[38;5;28;01mraise\u001b[39;00m \u001b[38;5;167;01mValueError\u001b[39;00m(\n\u001b[0;32m    857\u001b[0m         \u001b[38;5;124m\"\u001b[39m\u001b[38;5;124mNo fits were performed. \u001b[39m\u001b[38;5;124m\"\u001b[39m\n\u001b[0;32m    858\u001b[0m         \u001b[38;5;124m\"\u001b[39m\u001b[38;5;124mWas the CV iterator empty? \u001b[39m\u001b[38;5;124m\"\u001b[39m\n\u001b[0;32m    859\u001b[0m         \u001b[38;5;124m\"\u001b[39m\u001b[38;5;124mWere there no candidates?\u001b[39m\u001b[38;5;124m\"\u001b[39m\n\u001b[0;32m    860\u001b[0m     )\n",
      "File \u001b[1;32mC:\\Python\\lib\\site-packages\\joblib\\parallel.py:1056\u001b[0m, in \u001b[0;36mParallel.__call__\u001b[1;34m(self, iterable)\u001b[0m\n\u001b[0;32m   1053\u001b[0m     \u001b[38;5;28mself\u001b[39m\u001b[38;5;241m.\u001b[39m_iterating \u001b[38;5;241m=\u001b[39m \u001b[38;5;28;01mFalse\u001b[39;00m\n\u001b[0;32m   1055\u001b[0m \u001b[38;5;28;01mwith\u001b[39;00m \u001b[38;5;28mself\u001b[39m\u001b[38;5;241m.\u001b[39m_backend\u001b[38;5;241m.\u001b[39mretrieval_context():\n\u001b[1;32m-> 1056\u001b[0m     \u001b[38;5;28;43mself\u001b[39;49m\u001b[38;5;241;43m.\u001b[39;49m\u001b[43mretrieve\u001b[49m\u001b[43m(\u001b[49m\u001b[43m)\u001b[49m\n\u001b[0;32m   1057\u001b[0m \u001b[38;5;66;03m# Make sure that we get a last message telling us we are done\u001b[39;00m\n\u001b[0;32m   1058\u001b[0m elapsed_time \u001b[38;5;241m=\u001b[39m time\u001b[38;5;241m.\u001b[39mtime() \u001b[38;5;241m-\u001b[39m \u001b[38;5;28mself\u001b[39m\u001b[38;5;241m.\u001b[39m_start_time\n",
      "File \u001b[1;32mC:\\Python\\lib\\site-packages\\joblib\\parallel.py:935\u001b[0m, in \u001b[0;36mParallel.retrieve\u001b[1;34m(self)\u001b[0m\n\u001b[0;32m    933\u001b[0m \u001b[38;5;28;01mtry\u001b[39;00m:\n\u001b[0;32m    934\u001b[0m     \u001b[38;5;28;01mif\u001b[39;00m \u001b[38;5;28mgetattr\u001b[39m(\u001b[38;5;28mself\u001b[39m\u001b[38;5;241m.\u001b[39m_backend, \u001b[38;5;124m'\u001b[39m\u001b[38;5;124msupports_timeout\u001b[39m\u001b[38;5;124m'\u001b[39m, \u001b[38;5;28;01mFalse\u001b[39;00m):\n\u001b[1;32m--> 935\u001b[0m         \u001b[38;5;28mself\u001b[39m\u001b[38;5;241m.\u001b[39m_output\u001b[38;5;241m.\u001b[39mextend(\u001b[43mjob\u001b[49m\u001b[38;5;241;43m.\u001b[39;49m\u001b[43mget\u001b[49m\u001b[43m(\u001b[49m\u001b[43mtimeout\u001b[49m\u001b[38;5;241;43m=\u001b[39;49m\u001b[38;5;28;43mself\u001b[39;49m\u001b[38;5;241;43m.\u001b[39;49m\u001b[43mtimeout\u001b[49m\u001b[43m)\u001b[49m)\n\u001b[0;32m    936\u001b[0m     \u001b[38;5;28;01melse\u001b[39;00m:\n\u001b[0;32m    937\u001b[0m         \u001b[38;5;28mself\u001b[39m\u001b[38;5;241m.\u001b[39m_output\u001b[38;5;241m.\u001b[39mextend(job\u001b[38;5;241m.\u001b[39mget())\n",
      "File \u001b[1;32mC:\\Python\\lib\\site-packages\\joblib\\_parallel_backends.py:542\u001b[0m, in \u001b[0;36mLokyBackend.wrap_future_result\u001b[1;34m(future, timeout)\u001b[0m\n\u001b[0;32m    539\u001b[0m \u001b[38;5;124;03m\"\"\"Wrapper for Future.result to implement the same behaviour as\u001b[39;00m\n\u001b[0;32m    540\u001b[0m \u001b[38;5;124;03mAsyncResults.get from multiprocessing.\"\"\"\u001b[39;00m\n\u001b[0;32m    541\u001b[0m \u001b[38;5;28;01mtry\u001b[39;00m:\n\u001b[1;32m--> 542\u001b[0m     \u001b[38;5;28;01mreturn\u001b[39;00m \u001b[43mfuture\u001b[49m\u001b[38;5;241;43m.\u001b[39;49m\u001b[43mresult\u001b[49m\u001b[43m(\u001b[49m\u001b[43mtimeout\u001b[49m\u001b[38;5;241;43m=\u001b[39;49m\u001b[43mtimeout\u001b[49m\u001b[43m)\u001b[49m\n\u001b[0;32m    543\u001b[0m \u001b[38;5;28;01mexcept\u001b[39;00m CfTimeoutError \u001b[38;5;28;01mas\u001b[39;00m e:\n\u001b[0;32m    544\u001b[0m     \u001b[38;5;28;01mraise\u001b[39;00m \u001b[38;5;167;01mTimeoutError\u001b[39;00m \u001b[38;5;28;01mfrom\u001b[39;00m \u001b[38;5;21;01me\u001b[39;00m\n",
      "File \u001b[1;32mC:\\Python\\lib\\concurrent\\futures\\_base.py:441\u001b[0m, in \u001b[0;36mFuture.result\u001b[1;34m(self, timeout)\u001b[0m\n\u001b[0;32m    438\u001b[0m \u001b[38;5;28;01melif\u001b[39;00m \u001b[38;5;28mself\u001b[39m\u001b[38;5;241m.\u001b[39m_state \u001b[38;5;241m==\u001b[39m FINISHED:\n\u001b[0;32m    439\u001b[0m     \u001b[38;5;28;01mreturn\u001b[39;00m \u001b[38;5;28mself\u001b[39m\u001b[38;5;241m.\u001b[39m__get_result()\n\u001b[1;32m--> 441\u001b[0m \u001b[38;5;28;43mself\u001b[39;49m\u001b[38;5;241;43m.\u001b[39;49m\u001b[43m_condition\u001b[49m\u001b[38;5;241;43m.\u001b[39;49m\u001b[43mwait\u001b[49m\u001b[43m(\u001b[49m\u001b[43mtimeout\u001b[49m\u001b[43m)\u001b[49m\n\u001b[0;32m    443\u001b[0m \u001b[38;5;28;01mif\u001b[39;00m \u001b[38;5;28mself\u001b[39m\u001b[38;5;241m.\u001b[39m_state \u001b[38;5;129;01min\u001b[39;00m [CANCELLED, CANCELLED_AND_NOTIFIED]:\n\u001b[0;32m    444\u001b[0m     \u001b[38;5;28;01mraise\u001b[39;00m CancelledError()\n",
      "File \u001b[1;32mC:\\Python\\lib\\threading.py:320\u001b[0m, in \u001b[0;36mCondition.wait\u001b[1;34m(self, timeout)\u001b[0m\n\u001b[0;32m    318\u001b[0m \u001b[38;5;28;01mtry\u001b[39;00m:    \u001b[38;5;66;03m# restore state no matter what (e.g., KeyboardInterrupt)\u001b[39;00m\n\u001b[0;32m    319\u001b[0m     \u001b[38;5;28;01mif\u001b[39;00m timeout \u001b[38;5;129;01mis\u001b[39;00m \u001b[38;5;28;01mNone\u001b[39;00m:\n\u001b[1;32m--> 320\u001b[0m         \u001b[43mwaiter\u001b[49m\u001b[38;5;241;43m.\u001b[39;49m\u001b[43macquire\u001b[49m\u001b[43m(\u001b[49m\u001b[43m)\u001b[49m\n\u001b[0;32m    321\u001b[0m         gotit \u001b[38;5;241m=\u001b[39m \u001b[38;5;28;01mTrue\u001b[39;00m\n\u001b[0;32m    322\u001b[0m     \u001b[38;5;28;01melse\u001b[39;00m:\n",
      "\u001b[1;31mKeyboardInterrupt\u001b[0m: "
     ]
    }
   ],
   "source": [
    "from numpy import arange\n",
    "from pandas import read_csv\n",
    "from sklearn.model_selection import GridSearchCV\n",
    "from sklearn.model_selection import RepeatedKFold\n",
    "from sklearn.linear_model import ElasticNet\n",
    "\n",
    "# define model\n",
    "model = ElasticNet()\n",
    "# define model evaluation method\n",
    "cv = RepeatedKFold(n_splits=10, n_repeats=3, random_state=1)\n",
    "# define grid\n",
    "grid = dict()\n",
    "grid['alpha'] = [1e-5, 1e-4, 1e-3, 1e-2, 1e-1, 0.0, 1.0, 10.0, 100.0]\n",
    "grid['l1_ratio'] = arange(0, 1, 0.01)\n",
    "# define search\n",
    "search = GridSearchCV(model, grid, scoring='neg_mean_absolute_error', cv=cv, n_jobs=-1)\n",
    "# perform the search\n",
    "results = search.fit(X_train, y_train)\n",
    "# summarize\n",
    "print('MAE: %.3f' % results.best_score_)\n",
    "print('Config: %s' % results.best_params_)"
   ]
  },
  {
   "cell_type": "code",
   "execution_count": null,
   "metadata": {},
   "outputs": [
    {
     "data": {
      "text/plain": [
       "array([10.24503887, 11.21151345, 10.5881534 , ..., 10.86751833,\n",
       "       11.80045694, 10.58755735])"
      ]
     },
     "execution_count": 41,
     "metadata": {},
     "output_type": "execute_result"
    }
   ],
   "source": [
    "y_pred_elasticnet = search.predict(X_test)\n",
    "y_pred_elasticnet\n",
    "\n",
    "mae_elasticnet = mean_absolute_error(array_y_test, y_pred_elasticnet)\n",
    "mae_elasticnet\n",
    "\n",
    "mse_elasticnet = mean_squared_error(array_y_test, y_pred_elasticnet)\n",
    "mse_elasticnet\n",
    "\n",
    "rmse_elasticnet = mean_squared_error(array_y_test, y_pred_elasticnet, squared=False)\n",
    "rmse_elasticnet"
   ]
  },
  {
   "cell_type": "markdown",
   "metadata": {},
   "source": [
    "##### Regression Ridge"
   ]
  },
  {
   "cell_type": "code",
   "execution_count": null,
   "metadata": {},
   "outputs": [
    {
     "name": "stdout",
     "output_type": "stream",
     "text": [
      "MAE: -3.775\n",
      "Config: {'alpha': 0.99}\n"
     ]
    }
   ],
   "source": [
    "from numpy import arange\n",
    "from pandas import read_csv\n",
    "from sklearn.model_selection import GridSearchCV\n",
    "from sklearn.model_selection import RepeatedKFold\n",
    "from sklearn.linear_model import Ridge\n",
    "\n",
    "# define model\n",
    "model = Ridge()\n",
    "# define model evaluation method\n",
    "cv = RepeatedKFold(n_splits=10, n_repeats=3, random_state=1)\n",
    "# define grid\n",
    "grid = dict()\n",
    "grid['alpha'] = arange(0, 1, 0.01)\n",
    "# define search\n",
    "search = GridSearchCV(model, grid, scoring='neg_mean_absolute_error', cv=cv, n_jobs=-1)\n",
    "# perform the search\n",
    "results = search.fit(X_train, y_train)\n",
    "# summarize\n",
    "print('MAE: %.3f' % results.best_score_)\n",
    "print('Config: %s' % results.best_params_)"
   ]
  },
  {
   "cell_type": "code",
   "execution_count": null,
   "metadata": {},
   "outputs": [
    {
     "data": {
      "text/plain": [
       "array([10.21418107, 11.32073297, 10.54695348, ..., 10.64697462,\n",
       "       12.38477704, 10.5461822 ])"
      ]
     },
     "execution_count": 46,
     "metadata": {},
     "output_type": "execute_result"
    }
   ],
   "source": [
    "y_pred_ridge = search.predict(X_test)\n",
    "y_pred_ridge\n",
    "\n",
    "mae_ridge = mean_absolute_error(array_y_test, y_pred_ridge)\n",
    "mae_ridge\n",
    "\n",
    "mse_ridge = mean_squared_error(array_y_test, y_pred_ridge)\n",
    "mse_ridge\n",
    "\n",
    "rmse_ridge = mean_squared_error(array_y_test, y_pred_ridge, squared=False)\n",
    "rmse_ridge"
   ]
  },
  {
   "cell_type": "markdown",
   "metadata": {},
   "source": [
    "- Quartier et Cuisine en catégorie\n",
    "- Extraire grade et score\n",
    "- Extraire longitude et latitude (variable adress)\n",
    "- Split train set et test set\n",
    "- Regression : transformer output en classe et comparer avec le modele de classification\n",
    "- Choisir metrics de regression et classification\n",
    "- Arbre de décision, Random Forest, Xgboost"
   ]
  }
 ],
 "metadata": {
  "interpreter": {
   "hash": "38740d3277777e2cd7c6c2cc9d8addf5118fdf3f82b1b39231fd12aeac8aee8b"
  },
  "kernelspec": {
   "display_name": "Python 3.10.2 64-bit",
   "language": "python",
   "name": "python3"
  },
  "language_info": {
   "codemirror_mode": {
    "name": "ipython",
    "version": 3
   },
   "file_extension": ".py",
   "mimetype": "text/x-python",
   "name": "python",
   "nbconvert_exporter": "python",
   "pygments_lexer": "ipython3",
   "version": "3.10.2"
  },
  "orig_nbformat": 4
 },
 "nbformat": 4,
 "nbformat_minor": 2
}
