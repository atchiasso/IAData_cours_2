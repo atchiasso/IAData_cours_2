{
 "cells": [
  {
   "cell_type": "code",
   "execution_count": 52,
   "metadata": {},
   "outputs": [],
   "source": [
    "import pyspark\n",
    "import pyspark.sql.functions as F\n",
    "from pyspark import SparkContext\n",
    "from pyspark.sql import SparkSession\n",
    "from pyspark.sql import SQLContext\n",
    "from pyspark.ml.stat import Correlation"
   ]
  },
  {
   "cell_type": "markdown",
   "metadata": {},
   "source": [
    "#### Requêtes SQL "
   ]
  },
  {
   "cell_type": "code",
   "execution_count": 53,
   "metadata": {},
   "outputs": [
    {
     "name": "stdout",
     "output_type": "stream",
     "text": [
      "3.2.1\n"
     ]
    }
   ],
   "source": [
    "print(pyspark.__version__)"
   ]
  },
  {
   "cell_type": "code",
   "execution_count": 54,
   "metadata": {},
   "outputs": [],
   "source": [
    "conf = pyspark.SparkConf().set(\"spark.jars.packages\", \n",
    "                                \"org.mongodb.spark:mongo-spark-connector_2.12:3.0.1\").setMaster(\"local\").setAppName(\"My App\").setAll([(\"spark.driver.memory\", \"40g\"), (\"spark;executor.memory\", \"50g\")])"
   ]
  },
  {
   "cell_type": "code",
   "execution_count": 55,
   "metadata": {},
   "outputs": [],
   "source": [
    "sc = SparkContext(conf=conf) #Connected to pyspark"
   ]
  },
  {
   "cell_type": "code",
   "execution_count": 56,
   "metadata": {},
   "outputs": [
    {
     "name": "stderr",
     "output_type": "stream",
     "text": [
      "C:\\Python\\lib\\site-packages\\pyspark\\sql\\context.py:77: FutureWarning: Deprecated in 3.0.0. Use SparkSession.builder.getOrCreate() instead.\n",
      "  warnings.warn(\n"
     ]
    }
   ],
   "source": [
    "sqlC = SQLContext(sc)"
   ]
  },
  {
   "cell_type": "code",
   "execution_count": 57,
   "metadata": {},
   "outputs": [],
   "source": [
    "mongo_ip = \"mongodb://localhost:27017/restaurantsdb.\""
   ]
  },
  {
   "cell_type": "code",
   "execution_count": 58,
   "metadata": {},
   "outputs": [
    {
     "data": {
      "text/plain": [
       "DataFrame[_id: struct<oid:string>, address: struct<building:string,coord:array<double>,street:string,zipcode:string>, borough: string, cuisine: string, grades: array<struct<date:timestamp,grade:string,score:int>>, name: string, restaurant_id: string]"
      ]
     },
     "execution_count": 58,
     "metadata": {},
     "output_type": "execute_result"
    }
   ],
   "source": [
    "restaurants = sqlC.read.format(\"com.mongodb.spark.sql.DefaultSource\").option(\"uri\", mongo_ip + \"restaurants\").load()"
   ]
  },
  {
   "cell_type": "code",
   "execution_count": 59,
   "metadata": {},
   "outputs": [],
   "source": [
    "restaurants.createOrReplaceTempView(\"restaurants\")"
   ]
  },
  {
   "cell_type": "code",
   "execution_count": 60,
   "metadata": {},
   "outputs": [],
   "source": [
    "restaurants = sqlC.sql(\"SELECT * FROM restaurants\")"
   ]
  },
  {
   "cell_type": "code",
   "execution_count": 61,
   "metadata": {},
   "outputs": [
    {
     "name": "stdout",
     "output_type": "stream",
     "text": [
      "+--------------------+--------------------+-------------+--------------------+--------------------+--------------------+-------------+\n",
      "|                 _id|             address|      borough|             cuisine|              grades|                name|restaurant_id|\n",
      "+--------------------+--------------------+-------------+--------------------+--------------------+--------------------+-------------+\n",
      "|{61f15a93e0cb0c13...|{1007, [-73.85607...|        Bronx|              Bakery|[{2014-03-03 01:0...|Morris Park Bake ...|     30075445|\n",
      "|{61f15a93e0cb0c13...|{469, [-73.961704...|     Brooklyn|          Hamburgers|[{2014-12-30 01:0...|             Wendy'S|     30112340|\n",
      "|{61f15a93e0cb0c13...|{351, [-73.985135...|    Manhattan|               Irish|[{2014-09-06 02:0...|Dj Reynolds Pub A...|     30191841|\n",
      "|{61f15a93e0cb0c13...|{2780, [-73.98241...|     Brooklyn|           American |[{2014-06-10 02:0...|     Riviera Caterer|     40356018|\n",
      "|{61f15a93e0cb0c13...|{97-22, [-73.8601...|       Queens|       Jewish/Kosher|[{2014-11-24 01:0...|  Tov Kosher Kitchen|     40356068|\n",
      "|{61f15a93e0cb0c13...|{8825, [-73.88038...|       Queens|           American |[{2014-11-15 01:0...|Brunos On The Bou...|     40356151|\n",
      "|{61f15a93e0cb0c13...|{2206, [-74.13772...|Staten Island|       Jewish/Kosher|[{2014-10-06 02:0...|       Kosher Island|     40356442|\n",
      "|{61f15a93e0cb0c13...|{7114, [-73.90685...|     Brooklyn|        Delicatessen|[{2014-05-29 02:0...|  Wilken'S Fine Food|     40356483|\n",
      "|{61f15a93e0cb0c13...|{6409, [-74.00528...|     Brooklyn|           American |[{2014-07-18 02:0...|     Regina Caterers|     40356649|\n",
      "|{61f15a93e0cb0c13...|{1839, [-73.94826...|     Brooklyn|Ice Cream, Gelato...|[{2014-07-14 02:0...|Taste The Tropics...|     40356731|\n",
      "|{61f15a93e0cb0c13...|{2300, [-73.87861...|        Bronx|           American |[{2014-05-28 02:0...|           Wild Asia|     40357217|\n",
      "|{61f15a93e0cb0c13...|{7715, [-73.99733...|     Brooklyn|           American |[{2014-04-16 02:0...|C & C Catering Se...|     40357437|\n",
      "|{61f15a93e0cb0c13...|{1269, [-73.87119...|     Brooklyn|             Chinese|[{2014-09-16 02:0...|     May May Kitchen|     40358429|\n",
      "|{61f15a93e0cb0c13...|{1, [-73.96926909...|    Manhattan|           American |[{2014-05-07 02:0...|1 East 66Th Stree...|     40359480|\n",
      "|{61f15a93e0cb0c13...|{705, [-73.965396...|     Brooklyn|       Jewish/Kosher|[{2014-11-10 01:0...|         Seuda Foods|     40360045|\n",
      "|{61f15a93e0cb0c13...|{203, [-73.978220...|     Brooklyn|Ice Cream, Gelato...|[{2014-02-10 01:0...|    Carvel Ice Cream|     40360076|\n",
      "|{61f15a93e0cb0c13...|{265-15, [-73.703...|       Queens|Ice Cream, Gelato...|[{2014-10-28 01:0...|    Carvel Ice Cream|     40361322|\n",
      "|{61f15a93e0cb0c13...|{6909, [-74.02595...|     Brooklyn|        Delicatessen|[{2014-08-21 02:0...|   Nordic Delicacies|     40361390|\n",
      "|{61f15a93e0cb0c13...|{522, [-73.95171,...|    Manhattan|           American |[{2014-09-02 02:0...|       Glorious Food|     40361521|\n",
      "|{61f15a93e0cb0c13...|{284, [-73.982923...|     Brooklyn|           American |[{2014-11-19 01:0...|   The Movable Feast|     40361606|\n",
      "+--------------------+--------------------+-------------+--------------------+--------------------+--------------------+-------------+\n",
      "only showing top 20 rows\n",
      "\n"
     ]
    }
   ],
   "source": [
    "restaurants.show()"
   ]
  },
  {
   "cell_type": "code",
   "execution_count": 62,
   "metadata": {},
   "outputs": [
    {
     "name": "stdout",
     "output_type": "stream",
     "text": [
      "+--------+\n",
      "|count(1)|\n",
      "+--------+\n",
      "|    3772|\n",
      "+--------+\n",
      "\n"
     ]
    }
   ],
   "source": [
    "# Nombre de données dans la table\n",
    "restaurants = sqlC.sql(\"SELECT COUNT(*) FROM restaurants\")\n",
    "restaurants.show()"
   ]
  },
  {
   "cell_type": "code",
   "execution_count": 63,
   "metadata": {},
   "outputs": [
    {
     "name": "stdout",
     "output_type": "stream",
     "text": [
      "+-------+--------------------+\n",
      "|zipcode|count(restaurant_id)|\n",
      "+-------+--------------------+\n",
      "|  11205|                  10|\n",
      "|  11236|                  11|\n",
      "|  10309|                  13|\n",
      "|  11106|                  27|\n",
      "|  11218|                  16|\n",
      "|  10452|                  11|\n",
      "|  11428|                   5|\n",
      "|  11237|                   9|\n",
      "|  11379|                  11|\n",
      "|  11364|                  10|\n",
      "|  11249|                   8|\n",
      "|  10012|                  94|\n",
      "|  11001|                   2|\n",
      "|  11385|                  34|\n",
      "|  11238|                  12|\n",
      "|  10039|                   4|\n",
      "|  11427|                   5|\n",
      "|  11367|                  10|\n",
      "|  10010|                  27|\n",
      "|  10038|                  18|\n",
      "+-------+--------------------+\n",
      "only showing top 20 rows\n",
      "\n"
     ]
    }
   ],
   "source": [
    "# Nombre de restaurants par code postal\n",
    "restaurants = sqlC.sql(\"SELECT address.zipcode, COUNT(restaurant_id) FROM restaurants GROUP BY address.zipcode\")\n",
    "restaurants.show()"
   ]
  },
  {
   "cell_type": "code",
   "execution_count": 64,
   "metadata": {},
   "outputs": [
    {
     "name": "stdout",
     "output_type": "stream",
     "text": [
      "+----------------+--------------------+\n",
      "|         cuisine|count(restaurant_id)|\n",
      "+----------------+--------------------+\n",
      "|Pancakes/Waffles|                   7|\n",
      "|Chinese/Japanese|                   1|\n",
      "|         Mexican|                  73|\n",
      "|   Jewish/Kosher|                  60|\n",
      "|          Bakery|                 127|\n",
      "|         Turkish|                  11|\n",
      "|        Armenian|                   1|\n",
      "|         Hotdogs|                   4|\n",
      "|       Ethiopian|                   3|\n",
      "|            Thai|                  14|\n",
      "|          Indian|                  43|\n",
      "|         Chinese|                 115|\n",
      "|      Indonesian|                   2|\n",
      "|       Soul Food|                   6|\n",
      "|     Continental|                   8|\n",
      "|           Steak|                  21|\n",
      "|         African|                   4|\n",
      "|CafÃ©/Coffee/Tea|                   1|\n",
      "|          Donuts|                  43|\n",
      "|           Tapas|                   4|\n",
      "+----------------+--------------------+\n",
      "only showing top 20 rows\n",
      "\n"
     ]
    }
   ],
   "source": [
    "# Nombre de restaurants par type de cuisine\n",
    "restaurants = sqlC.sql(\"SELECT cuisine, COUNT(restaurant_id) FROM restaurants GROUP BY cuisine\")\n",
    "restaurants.show()"
   ]
  },
  {
   "cell_type": "code",
   "execution_count": 65,
   "metadata": {},
   "outputs": [
    {
     "name": "stdout",
     "output_type": "stream",
     "text": [
      "+--------------------+--------------------+-------------+--------------------+--------------------+--------------------+-------------+---+\n",
      "|                 _id|             address|      borough|             cuisine|              grades|                name|restaurant_id|sum|\n",
      "+--------------------+--------------------+-------------+--------------------+--------------------+--------------------+-------------+---+\n",
      "|{61f15a93e0cb0c13...|{1007, [-73.85607...|        Bronx|              Bakery|[{2014-03-03 01:0...|Morris Park Bake ...|     30075445| 41|\n",
      "|{61f15a93e0cb0c13...|{469, [-73.961704...|     Brooklyn|          Hamburgers|[{2014-12-30 01:0...|             Wendy'S|     30112340| 55|\n",
      "|{61f15a93e0cb0c13...|{351, [-73.985135...|    Manhattan|               Irish|[{2014-09-06 02:0...|Dj Reynolds Pub A...|     30191841| 37|\n",
      "|{61f15a93e0cb0c13...|{2780, [-73.98241...|     Brooklyn|           American |[{2014-06-10 02:0...|     Riviera Caterer|     40356018| 36|\n",
      "|{61f15a93e0cb0c13...|{97-22, [-73.8601...|       Queens|       Jewish/Kosher|[{2014-11-24 01:0...|  Tov Kosher Kitchen|     40356068| 71|\n",
      "|{61f15a93e0cb0c13...|{8825, [-73.88038...|       Queens|           American |[{2014-11-15 01:0...|Brunos On The Bou...|     40356151| 68|\n",
      "|{61f15a93e0cb0c13...|{2206, [-74.13772...|Staten Island|       Jewish/Kosher|[{2014-10-06 02:0...|       Kosher Island|     40356442| 42|\n",
      "|{61f15a93e0cb0c13...|{7114, [-73.90685...|     Brooklyn|        Delicatessen|[{2014-05-29 02:0...|  Wilken'S Fine Food|     40356483| 60|\n",
      "|{61f15a93e0cb0c13...|{6409, [-74.00528...|     Brooklyn|           American |[{2014-07-18 02:0...|     Regina Caterers|     40356649| 48|\n",
      "|{61f15a93e0cb0c13...|{1839, [-73.94826...|     Brooklyn|Ice Cream, Gelato...|[{2014-07-14 02:0...|Taste The Tropics...|     40356731| 33|\n",
      "|{61f15a93e0cb0c13...|{2300, [-73.87861...|        Bronx|           American |[{2014-05-28 02:0...|           Wild Asia|     40357217| 18|\n",
      "|{61f15a93e0cb0c13...|{7715, [-73.99733...|     Brooklyn|           American |[{2014-04-16 02:0...|C & C Catering Se...|     40357437| 14|\n",
      "|{61f15a93e0cb0c13...|{1269, [-73.87119...|     Brooklyn|             Chinese|[{2014-09-16 02:0...|     May May Kitchen|     40358429|138|\n",
      "|{61f15a93e0cb0c13...|{1, [-73.96926909...|    Manhattan|           American |[{2014-05-07 02:0...|1 East 66Th Stree...|     40359480| 13|\n",
      "|{61f15a93e0cb0c13...|{705, [-73.965396...|     Brooklyn|       Jewish/Kosher|[{2014-11-10 01:0...|         Seuda Foods|     40360045| 59|\n",
      "|{61f15a93e0cb0c13...|{203, [-73.978220...|     Brooklyn|Ice Cream, Gelato...|[{2014-02-10 01:0...|    Carvel Ice Cream|     40360076| 43|\n",
      "|{61f15a93e0cb0c13...|{265-15, [-73.703...|       Queens|Ice Cream, Gelato...|[{2014-10-28 01:0...|    Carvel Ice Cream|     40361322| 32|\n",
      "|{61f15a93e0cb0c13...|{6909, [-74.02595...|     Brooklyn|        Delicatessen|[{2014-08-21 02:0...|   Nordic Delicacies|     40361390| 17|\n",
      "|{61f15a93e0cb0c13...|{522, [-73.95171,...|    Manhattan|           American |[{2014-09-02 02:0...|       Glorious Food|     40361521| 61|\n",
      "|{61f15a93e0cb0c13...|{284, [-73.982923...|     Brooklyn|           American |[{2014-11-19 01:0...|   The Movable Feast|     40361606| 37|\n",
      "+--------------------+--------------------+-------------+--------------------+--------------------+--------------------+-------------+---+\n",
      "only showing top 20 rows\n",
      "\n"
     ]
    }
   ],
   "source": [
    "# Le restaurant le mieux noté\n",
    "from pyspark.sql.functions import *\n",
    "\n",
    "restaurants = sqlC.sql(\"select *,aggregate(grades.score,0,(x,y) -> x + y) as sum from restaurants\")\n",
    "restaurants.show()"
   ]
  },
  {
   "cell_type": "markdown",
   "metadata": {},
   "source": [
    "### Linear Regression with PySpark"
   ]
  },
  {
   "cell_type": "code",
   "execution_count": 66,
   "metadata": {},
   "outputs": [],
   "source": [
    "restaurants_df = sqlC.read.format(\"com.mongodb.spark.sql.DefaultSource\").option(\"uri\", mongo_ip + \"restaurants\").load()"
   ]
  },
  {
   "cell_type": "code",
   "execution_count": 67,
   "metadata": {},
   "outputs": [
    {
     "name": "stdout",
     "output_type": "stream",
     "text": [
      "+--------------------+--------------------+-------------+--------------------+--------------------+--------------------+-------------+\n",
      "|                 _id|             address|      borough|             cuisine|              grades|                name|restaurant_id|\n",
      "+--------------------+--------------------+-------------+--------------------+--------------------+--------------------+-------------+\n",
      "|{61f15a93e0cb0c13...|{1007, [-73.85607...|        Bronx|              Bakery|[{2014-03-03 01:0...|Morris Park Bake ...|     30075445|\n",
      "|{61f15a93e0cb0c13...|{469, [-73.961704...|     Brooklyn|          Hamburgers|[{2014-12-30 01:0...|             Wendy'S|     30112340|\n",
      "|{61f15a93e0cb0c13...|{351, [-73.985135...|    Manhattan|               Irish|[{2014-09-06 02:0...|Dj Reynolds Pub A...|     30191841|\n",
      "|{61f15a93e0cb0c13...|{2780, [-73.98241...|     Brooklyn|           American |[{2014-06-10 02:0...|     Riviera Caterer|     40356018|\n",
      "|{61f15a93e0cb0c13...|{97-22, [-73.8601...|       Queens|       Jewish/Kosher|[{2014-11-24 01:0...|  Tov Kosher Kitchen|     40356068|\n",
      "|{61f15a93e0cb0c13...|{8825, [-73.88038...|       Queens|           American |[{2014-11-15 01:0...|Brunos On The Bou...|     40356151|\n",
      "|{61f15a93e0cb0c13...|{2206, [-74.13772...|Staten Island|       Jewish/Kosher|[{2014-10-06 02:0...|       Kosher Island|     40356442|\n",
      "|{61f15a93e0cb0c13...|{7114, [-73.90685...|     Brooklyn|        Delicatessen|[{2014-05-29 02:0...|  Wilken'S Fine Food|     40356483|\n",
      "|{61f15a93e0cb0c13...|{6409, [-74.00528...|     Brooklyn|           American |[{2014-07-18 02:0...|     Regina Caterers|     40356649|\n",
      "|{61f15a93e0cb0c13...|{1839, [-73.94826...|     Brooklyn|Ice Cream, Gelato...|[{2014-07-14 02:0...|Taste The Tropics...|     40356731|\n",
      "|{61f15a93e0cb0c13...|{2300, [-73.87861...|        Bronx|           American |[{2014-05-28 02:0...|           Wild Asia|     40357217|\n",
      "|{61f15a93e0cb0c13...|{7715, [-73.99733...|     Brooklyn|           American |[{2014-04-16 02:0...|C & C Catering Se...|     40357437|\n",
      "|{61f15a93e0cb0c13...|{1269, [-73.87119...|     Brooklyn|             Chinese|[{2014-09-16 02:0...|     May May Kitchen|     40358429|\n",
      "|{61f15a93e0cb0c13...|{1, [-73.96926909...|    Manhattan|           American |[{2014-05-07 02:0...|1 East 66Th Stree...|     40359480|\n",
      "|{61f15a93e0cb0c13...|{705, [-73.965396...|     Brooklyn|       Jewish/Kosher|[{2014-11-10 01:0...|         Seuda Foods|     40360045|\n",
      "|{61f15a93e0cb0c13...|{203, [-73.978220...|     Brooklyn|Ice Cream, Gelato...|[{2014-02-10 01:0...|    Carvel Ice Cream|     40360076|\n",
      "|{61f15a93e0cb0c13...|{265-15, [-73.703...|       Queens|Ice Cream, Gelato...|[{2014-10-28 01:0...|    Carvel Ice Cream|     40361322|\n",
      "|{61f15a93e0cb0c13...|{6909, [-74.02595...|     Brooklyn|        Delicatessen|[{2014-08-21 02:0...|   Nordic Delicacies|     40361390|\n",
      "|{61f15a93e0cb0c13...|{522, [-73.95171,...|    Manhattan|           American |[{2014-09-02 02:0...|       Glorious Food|     40361521|\n",
      "|{61f15a93e0cb0c13...|{284, [-73.982923...|     Brooklyn|           American |[{2014-11-19 01:0...|   The Movable Feast|     40361606|\n",
      "+--------------------+--------------------+-------------+--------------------+--------------------+--------------------+-------------+\n",
      "only showing top 20 rows\n",
      "\n"
     ]
    }
   ],
   "source": [
    "restaurants_df.show()"
   ]
  },
  {
   "cell_type": "code",
   "execution_count": 68,
   "metadata": {},
   "outputs": [
    {
     "name": "stdout",
     "output_type": "stream",
     "text": [
      "root\n",
      " |-- _id: struct (nullable = true)\n",
      " |    |-- oid: string (nullable = true)\n",
      " |-- address: struct (nullable = true)\n",
      " |    |-- building: string (nullable = true)\n",
      " |    |-- coord: array (nullable = true)\n",
      " |    |    |-- element: double (containsNull = true)\n",
      " |    |-- street: string (nullable = true)\n",
      " |    |-- zipcode: string (nullable = true)\n",
      " |-- borough: string (nullable = true)\n",
      " |-- cuisine: string (nullable = true)\n",
      " |-- grades: array (nullable = true)\n",
      " |    |-- element: struct (containsNull = true)\n",
      " |    |    |-- date: timestamp (nullable = true)\n",
      " |    |    |-- grade: string (nullable = true)\n",
      " |    |    |-- score: integer (nullable = true)\n",
      " |-- name: string (nullable = true)\n",
      " |-- restaurant_id: string (nullable = true)\n",
      "\n"
     ]
    }
   ],
   "source": [
    "restaurants_df.printSchema()"
   ]
  },
  {
   "cell_type": "code",
   "execution_count": 69,
   "metadata": {},
   "outputs": [
    {
     "name": "stdout",
     "output_type": "stream",
     "text": [
      "+-------+-------------+--------------------+--------------------+-------------------+\n",
      "|summary|      borough|             cuisine|                name|      restaurant_id|\n",
      "+-------+-------------+--------------------+--------------------+-------------------+\n",
      "|  count|         3772|                3772|                3772|               3772|\n",
      "|   mean|         null|                null|                null|4.056896984093319E7|\n",
      "| stddev|         null|                null|                null| 343183.48925093777|\n",
      "|    min|        Bronx|              Afghan|(Lewis Drug Store...|           30075445|\n",
      "|    max|Staten Island|Vietnamese/Cambod...|      Zum Stammtisch|           40900694|\n",
      "+-------+-------------+--------------------+--------------------+-------------------+\n",
      "\n"
     ]
    }
   ],
   "source": [
    "restaurants_df.describe().show()"
   ]
  },
  {
   "cell_type": "code",
   "execution_count": 70,
   "metadata": {},
   "outputs": [],
   "source": [
    "# "
   ]
  }
 ],
 "metadata": {
  "interpreter": {
   "hash": "38740d3277777e2cd7c6c2cc9d8addf5118fdf3f82b1b39231fd12aeac8aee8b"
  },
  "kernelspec": {
   "display_name": "Python 3.10.2 64-bit",
   "language": "python",
   "name": "python3"
  },
  "language_info": {
   "codemirror_mode": {
    "name": "ipython",
    "version": 3
   },
   "file_extension": ".py",
   "mimetype": "text/x-python",
   "name": "python",
   "nbconvert_exporter": "python",
   "pygments_lexer": "ipython3",
   "version": "3.10.2"
  },
  "orig_nbformat": 4
 },
 "nbformat": 4,
 "nbformat_minor": 2
}
