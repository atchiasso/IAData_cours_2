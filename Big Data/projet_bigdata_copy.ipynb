{
 "cells": [
  {
   "cell_type": "code",
   "execution_count": 185,
   "metadata": {},
   "outputs": [],
   "source": [
    "import pyspark\n",
    "import pyspark.sql.functions as F\n",
    "from pyspark import SparkContext\n",
    "from pyspark.sql import SparkSession\n",
    "from pyspark.sql import SQLContext\n",
    "from pyspark.ml.stat import Correlation"
   ]
  },
  {
   "cell_type": "markdown",
   "metadata": {},
   "source": [
    "#### Requêtes SQL "
   ]
  },
  {
   "cell_type": "code",
   "execution_count": 186,
   "metadata": {},
   "outputs": [
    {
     "name": "stdout",
     "output_type": "stream",
     "text": [
      "3.2.1\n"
     ]
    }
   ],
   "source": [
    "print(pyspark.__version__)"
   ]
  },
  {
   "cell_type": "code",
   "execution_count": 187,
   "metadata": {},
   "outputs": [],
   "source": [
    "conf = pyspark.SparkConf().set(\"spark.jars.packages\", \n",
    "                                \"org.mongodb.spark:mongo-spark-connector_2.12:3.0.1\").setMaster(\"local\").setAppName(\"My App\").setAll([(\"spark.driver.memory\", \"40g\"), (\"spark;executor.memory\", \"50g\")])"
   ]
  },
  {
   "cell_type": "code",
   "execution_count": 188,
   "metadata": {},
   "outputs": [],
   "source": [
    "sc = SparkContext(conf=conf) #Connected to pyspark"
   ]
  },
  {
   "cell_type": "code",
   "execution_count": 189,
   "metadata": {},
   "outputs": [
    {
     "name": "stderr",
     "output_type": "stream",
     "text": [
      "C:\\Python\\lib\\site-packages\\pyspark\\sql\\context.py:77: FutureWarning: Deprecated in 3.0.0. Use SparkSession.builder.getOrCreate() instead.\n",
      "  warnings.warn(\n"
     ]
    }
   ],
   "source": [
    "sqlC = SQLContext(sc)"
   ]
  },
  {
   "cell_type": "code",
   "execution_count": 190,
   "metadata": {},
   "outputs": [],
   "source": [
    "mongo_ip = \"mongodb://localhost:27017/restaurantsdb.\""
   ]
  },
  {
   "cell_type": "code",
   "execution_count": 191,
   "metadata": {},
   "outputs": [],
   "source": [
    "restaurants = sqlC.read.format(\"com.mongodb.spark.sql.DefaultSource\").option(\"uri\", mongo_ip + \"restaurants\").load()"
   ]
  },
  {
   "cell_type": "code",
   "execution_count": 192,
   "metadata": {},
   "outputs": [],
   "source": [
    "restaurants.createOrReplaceTempView(\"restaurants\")"
   ]
  },
  {
   "cell_type": "code",
   "execution_count": 193,
   "metadata": {},
   "outputs": [],
   "source": [
    "restaurants = sqlC.sql(\"SELECT * FROM restaurants\")"
   ]
  },
  {
   "cell_type": "code",
   "execution_count": 194,
   "metadata": {},
   "outputs": [
    {
     "name": "stdout",
     "output_type": "stream",
     "text": [
      "+--------------------+--------------------+-------------+--------------------+--------------------+--------------------+-------------+\n",
      "|                 _id|             address|      borough|             cuisine|              grades|                name|restaurant_id|\n",
      "+--------------------+--------------------+-------------+--------------------+--------------------+--------------------+-------------+\n",
      "|{61f15a93e0cb0c13...|{1007, [-73.85607...|        Bronx|              Bakery|[{2014-03-03 01:0...|Morris Park Bake ...|     30075445|\n",
      "|{61f15a93e0cb0c13...|{469, [-73.961704...|     Brooklyn|          Hamburgers|[{2014-12-30 01:0...|             Wendy'S|     30112340|\n",
      "|{61f15a93e0cb0c13...|{351, [-73.985135...|    Manhattan|               Irish|[{2014-09-06 02:0...|Dj Reynolds Pub A...|     30191841|\n",
      "|{61f15a93e0cb0c13...|{2780, [-73.98241...|     Brooklyn|           American |[{2014-06-10 02:0...|     Riviera Caterer|     40356018|\n",
      "|{61f15a93e0cb0c13...|{97-22, [-73.8601...|       Queens|       Jewish/Kosher|[{2014-11-24 01:0...|  Tov Kosher Kitchen|     40356068|\n",
      "|{61f15a93e0cb0c13...|{8825, [-73.88038...|       Queens|           American |[{2014-11-15 01:0...|Brunos On The Bou...|     40356151|\n",
      "|{61f15a93e0cb0c13...|{2206, [-74.13772...|Staten Island|       Jewish/Kosher|[{2014-10-06 02:0...|       Kosher Island|     40356442|\n",
      "|{61f15a93e0cb0c13...|{7114, [-73.90685...|     Brooklyn|        Delicatessen|[{2014-05-29 02:0...|  Wilken'S Fine Food|     40356483|\n",
      "|{61f15a93e0cb0c13...|{6409, [-74.00528...|     Brooklyn|           American |[{2014-07-18 02:0...|     Regina Caterers|     40356649|\n",
      "|{61f15a93e0cb0c13...|{1839, [-73.94826...|     Brooklyn|Ice Cream, Gelato...|[{2014-07-14 02:0...|Taste The Tropics...|     40356731|\n",
      "|{61f15a93e0cb0c13...|{2300, [-73.87861...|        Bronx|           American |[{2014-05-28 02:0...|           Wild Asia|     40357217|\n",
      "|{61f15a93e0cb0c13...|{7715, [-73.99733...|     Brooklyn|           American |[{2014-04-16 02:0...|C & C Catering Se...|     40357437|\n",
      "|{61f15a93e0cb0c13...|{1269, [-73.87119...|     Brooklyn|             Chinese|[{2014-09-16 02:0...|     May May Kitchen|     40358429|\n",
      "|{61f15a93e0cb0c13...|{1, [-73.96926909...|    Manhattan|           American |[{2014-05-07 02:0...|1 East 66Th Stree...|     40359480|\n",
      "|{61f15a93e0cb0c13...|{705, [-73.965396...|     Brooklyn|       Jewish/Kosher|[{2014-11-10 01:0...|         Seuda Foods|     40360045|\n",
      "|{61f15a93e0cb0c13...|{203, [-73.978220...|     Brooklyn|Ice Cream, Gelato...|[{2014-02-10 01:0...|    Carvel Ice Cream|     40360076|\n",
      "|{61f15a93e0cb0c13...|{265-15, [-73.703...|       Queens|Ice Cream, Gelato...|[{2014-10-28 01:0...|    Carvel Ice Cream|     40361322|\n",
      "|{61f15a93e0cb0c13...|{6909, [-74.02595...|     Brooklyn|        Delicatessen|[{2014-08-21 02:0...|   Nordic Delicacies|     40361390|\n",
      "|{61f15a93e0cb0c13...|{522, [-73.95171,...|    Manhattan|           American |[{2014-09-02 02:0...|       Glorious Food|     40361521|\n",
      "|{61f15a93e0cb0c13...|{284, [-73.982923...|     Brooklyn|           American |[{2014-11-19 01:0...|   The Movable Feast|     40361606|\n",
      "+--------------------+--------------------+-------------+--------------------+--------------------+--------------------+-------------+\n",
      "only showing top 20 rows\n",
      "\n"
     ]
    }
   ],
   "source": [
    "restaurants.show()"
   ]
  },
  {
   "cell_type": "code",
   "execution_count": 195,
   "metadata": {},
   "outputs": [
    {
     "name": "stdout",
     "output_type": "stream",
     "text": [
      "+--------+\n",
      "|count(1)|\n",
      "+--------+\n",
      "|    3772|\n",
      "+--------+\n",
      "\n"
     ]
    }
   ],
   "source": [
    "# Nombre de données dans la table\n",
    "restaurants = sqlC.sql(\"SELECT COUNT(*) FROM restaurants\")\n",
    "restaurants.show()"
   ]
  },
  {
   "cell_type": "code",
   "execution_count": 196,
   "metadata": {},
   "outputs": [
    {
     "name": "stdout",
     "output_type": "stream",
     "text": [
      "+-------+--------------------+\n",
      "|zipcode|count(restaurant_id)|\n",
      "+-------+--------------------+\n",
      "|  11205|                  10|\n",
      "|  11236|                  11|\n",
      "|  10309|                  13|\n",
      "|  11106|                  27|\n",
      "|  11218|                  16|\n",
      "|  10452|                  11|\n",
      "|  11428|                   5|\n",
      "|  11237|                   9|\n",
      "|  11379|                  11|\n",
      "|  11364|                  10|\n",
      "|  11249|                   8|\n",
      "|  10012|                  94|\n",
      "|  11001|                   2|\n",
      "|  11385|                  34|\n",
      "|  11238|                  12|\n",
      "|  10039|                   4|\n",
      "|  11427|                   5|\n",
      "|  11367|                  10|\n",
      "|  10010|                  27|\n",
      "|  10038|                  18|\n",
      "+-------+--------------------+\n",
      "only showing top 20 rows\n",
      "\n"
     ]
    }
   ],
   "source": [
    "# Nombre de restaurants par code postal\n",
    "restaurants = sqlC.sql(\"SELECT address.zipcode, COUNT(restaurant_id) FROM restaurants GROUP BY address.zipcode\")\n",
    "restaurants.show()"
   ]
  },
  {
   "cell_type": "code",
   "execution_count": 197,
   "metadata": {},
   "outputs": [
    {
     "name": "stdout",
     "output_type": "stream",
     "text": [
      "+----------------+--------------------+\n",
      "|         cuisine|count(restaurant_id)|\n",
      "+----------------+--------------------+\n",
      "|Pancakes/Waffles|                   7|\n",
      "|Chinese/Japanese|                   1|\n",
      "|         Mexican|                  73|\n",
      "|   Jewish/Kosher|                  60|\n",
      "|          Bakery|                 127|\n",
      "|         Turkish|                  11|\n",
      "|        Armenian|                   1|\n",
      "|         Hotdogs|                   4|\n",
      "|       Ethiopian|                   3|\n",
      "|            Thai|                  14|\n",
      "|          Indian|                  43|\n",
      "|         Chinese|                 115|\n",
      "|      Indonesian|                   2|\n",
      "|       Soul Food|                   6|\n",
      "|     Continental|                   8|\n",
      "|           Steak|                  21|\n",
      "|         African|                   4|\n",
      "|CafÃ©/Coffee/Tea|                   1|\n",
      "|          Donuts|                  43|\n",
      "|           Tapas|                   4|\n",
      "+----------------+--------------------+\n",
      "only showing top 20 rows\n",
      "\n"
     ]
    }
   ],
   "source": [
    "# Nombre de restaurants par type de cuisine\n",
    "restaurants = sqlC.sql(\"SELECT cuisine, COUNT(restaurant_id) FROM restaurants GROUP BY cuisine\")\n",
    "restaurants.show()"
   ]
  },
  {
   "cell_type": "code",
   "execution_count": 198,
   "metadata": {},
   "outputs": [
    {
     "name": "stdout",
     "output_type": "stream",
     "text": [
      "+--------------------+--------------------+-------------+--------------------+--------------------+--------------------+-------------+---+\n",
      "|                 _id|             address|      borough|             cuisine|              grades|                name|restaurant_id|sum|\n",
      "+--------------------+--------------------+-------------+--------------------+--------------------+--------------------+-------------+---+\n",
      "|{61f15a93e0cb0c13...|{1007, [-73.85607...|        Bronx|              Bakery|[{2014-03-03 01:0...|Morris Park Bake ...|     30075445| 41|\n",
      "|{61f15a93e0cb0c13...|{469, [-73.961704...|     Brooklyn|          Hamburgers|[{2014-12-30 01:0...|             Wendy'S|     30112340| 55|\n",
      "|{61f15a93e0cb0c13...|{351, [-73.985135...|    Manhattan|               Irish|[{2014-09-06 02:0...|Dj Reynolds Pub A...|     30191841| 37|\n",
      "|{61f15a93e0cb0c13...|{2780, [-73.98241...|     Brooklyn|           American |[{2014-06-10 02:0...|     Riviera Caterer|     40356018| 36|\n",
      "|{61f15a93e0cb0c13...|{97-22, [-73.8601...|       Queens|       Jewish/Kosher|[{2014-11-24 01:0...|  Tov Kosher Kitchen|     40356068| 71|\n",
      "|{61f15a93e0cb0c13...|{8825, [-73.88038...|       Queens|           American |[{2014-11-15 01:0...|Brunos On The Bou...|     40356151| 68|\n",
      "|{61f15a93e0cb0c13...|{2206, [-74.13772...|Staten Island|       Jewish/Kosher|[{2014-10-06 02:0...|       Kosher Island|     40356442| 42|\n",
      "|{61f15a93e0cb0c13...|{7114, [-73.90685...|     Brooklyn|        Delicatessen|[{2014-05-29 02:0...|  Wilken'S Fine Food|     40356483| 60|\n",
      "|{61f15a93e0cb0c13...|{6409, [-74.00528...|     Brooklyn|           American |[{2014-07-18 02:0...|     Regina Caterers|     40356649| 48|\n",
      "|{61f15a93e0cb0c13...|{1839, [-73.94826...|     Brooklyn|Ice Cream, Gelato...|[{2014-07-14 02:0...|Taste The Tropics...|     40356731| 33|\n",
      "|{61f15a93e0cb0c13...|{2300, [-73.87861...|        Bronx|           American |[{2014-05-28 02:0...|           Wild Asia|     40357217| 18|\n",
      "|{61f15a93e0cb0c13...|{7715, [-73.99733...|     Brooklyn|           American |[{2014-04-16 02:0...|C & C Catering Se...|     40357437| 14|\n",
      "|{61f15a93e0cb0c13...|{1269, [-73.87119...|     Brooklyn|             Chinese|[{2014-09-16 02:0...|     May May Kitchen|     40358429|138|\n",
      "|{61f15a93e0cb0c13...|{1, [-73.96926909...|    Manhattan|           American |[{2014-05-07 02:0...|1 East 66Th Stree...|     40359480| 13|\n",
      "|{61f15a93e0cb0c13...|{705, [-73.965396...|     Brooklyn|       Jewish/Kosher|[{2014-11-10 01:0...|         Seuda Foods|     40360045| 59|\n",
      "|{61f15a93e0cb0c13...|{203, [-73.978220...|     Brooklyn|Ice Cream, Gelato...|[{2014-02-10 01:0...|    Carvel Ice Cream|     40360076| 43|\n",
      "|{61f15a93e0cb0c13...|{265-15, [-73.703...|       Queens|Ice Cream, Gelato...|[{2014-10-28 01:0...|    Carvel Ice Cream|     40361322| 32|\n",
      "|{61f15a93e0cb0c13...|{6909, [-74.02595...|     Brooklyn|        Delicatessen|[{2014-08-21 02:0...|   Nordic Delicacies|     40361390| 17|\n",
      "|{61f15a93e0cb0c13...|{522, [-73.95171,...|    Manhattan|           American |[{2014-09-02 02:0...|       Glorious Food|     40361521| 61|\n",
      "|{61f15a93e0cb0c13...|{284, [-73.982923...|     Brooklyn|           American |[{2014-11-19 01:0...|   The Movable Feast|     40361606| 37|\n",
      "+--------------------+--------------------+-------------+--------------------+--------------------+--------------------+-------------+---+\n",
      "only showing top 20 rows\n",
      "\n"
     ]
    }
   ],
   "source": [
    "# Le restaurant le mieux noté\n",
    "from pyspark.sql.functions import *\n",
    "\n",
    "restaurants = sqlC.sql(\"select *,aggregate(grades.score,0,(x,y) -> x + y) as sum from restaurants\")\n",
    "restaurants.show()"
   ]
  },
  {
   "cell_type": "markdown",
   "metadata": {},
   "source": [
    "### Preprocessing"
   ]
  },
  {
   "cell_type": "code",
   "execution_count": 199,
   "metadata": {},
   "outputs": [],
   "source": [
    "restaurants_df = sqlC.read.format(\"com.mongodb.spark.sql.DefaultSource\").option(\"uri\", mongo_ip + \"restau_df\").load()"
   ]
  },
  {
   "cell_type": "code",
   "execution_count": 200,
   "metadata": {},
   "outputs": [
    {
     "name": "stdout",
     "output_type": "stream",
     "text": [
      "+--------------------+--------------------+-----+-----------------+------------------+-------------+-------------+-------+\n",
      "|                 _id|             cuisine|grade|        lattitude|         longitude|nb_infraction|     quartier|zipcode|\n",
      "+--------------------+--------------------+-----+-----------------+------------------+-------------+-------------+-------+\n",
      "|{61f15a93e0cb0c13...|              Bakery|    A|        40.848447|        -73.856077|            2|        Bronx|  10462|\n",
      "|{61f15a93e0cb0c13...|          Hamburgers|    A|        40.662942|        -73.961704|            8|     Brooklyn|  11225|\n",
      "|{61f15a93e0cb0c13...|               Irish|    A|       40.7676919|-73.98513559999999|            2|    Manhattan|  10019|\n",
      "|{61f15a93e0cb0c13...|           American |    A|        40.579505|-73.98241999999999|            5|     Brooklyn|  11224|\n",
      "|{61f15a93e0cb0c13...|       Jewish/Kosher|    Z|       40.7311739|       -73.8601152|           20|       Queens|  11374|\n",
      "|{61f15a93e0cb0c13...|           American |    Z|       40.7643124|       -73.8803827|           38|       Queens|  11369|\n",
      "|{61f15a93e0cb0c13...|       Jewish/Kosher|    A|       40.6119572|       -74.1377286|            9|Staten Island|  10314|\n",
      "|{61f15a93e0cb0c13...|        Delicatessen|    A|       40.6199034|       -73.9068506|           10|     Brooklyn|  11234|\n",
      "|{61f15a93e0cb0c13...|           American |    A|        40.628886|-74.00528899999999|           12|     Brooklyn|  11219|\n",
      "|{61f15a93e0cb0c13...|Ice Cream, Gelato...|    A|       40.6408271|       -73.9482609|           12|     Brooklyn|  11226|\n",
      "|{61f15a93e0cb0c13...|           American |    A|       40.8502883|       -73.8786113|           11|        Bronx|  10460|\n",
      "|{61f15a93e0cb0c13...|           American |    A|40.61174889999999|       -73.9973325|            5|     Brooklyn|  11214|\n",
      "|{61f15a93e0cb0c13...|             Chinese|    B|       40.6730975|        -73.871194|           21|     Brooklyn|  11208|\n",
      "|{61f15a93e0cb0c13...|           American |    A|       40.7685235|-73.96926909999999|            3|    Manhattan|  10065|\n",
      "|{61f15a93e0cb0c13...|       Jewish/Kosher|    A|       40.6064339|       -73.9653967|           11|     Brooklyn|  11223|\n",
      "|{61f15a93e0cb0c13...|Ice Cream, Gelato...|    A|       40.6435254|-73.97822040000001|            2|     Brooklyn|  11218|\n",
      "|{61f15a93e0cb0c13...|Ice Cream, Gelato...|    A|       40.7386417|       -73.7032601|            9|       Queens|  11004|\n",
      "|{61f15a93e0cb0c13...|        Delicatessen|    A|       40.6353674|       -74.0259567|            4|     Brooklyn|  11209|\n",
      "|{61f15a93e0cb0c13...|           American |    A|        40.767461|         -73.95171|           12|    Manhattan|  10021|\n",
      "|{61f15a93e0cb0c13...|           American |    A|       40.6580753|       -73.9829239|           11|     Brooklyn|  11215|\n",
      "+--------------------+--------------------+-----+-----------------+------------------+-------------+-------------+-------+\n",
      "only showing top 20 rows\n",
      "\n"
     ]
    }
   ],
   "source": [
    "restaurants_df.show()"
   ]
  },
  {
   "cell_type": "code",
   "execution_count": 201,
   "metadata": {},
   "outputs": [
    {
     "name": "stdout",
     "output_type": "stream",
     "text": [
      "root\n",
      " |-- _id: struct (nullable = true)\n",
      " |    |-- oid: string (nullable = true)\n",
      " |-- cuisine: string (nullable = true)\n",
      " |-- grade: string (nullable = true)\n",
      " |-- lattitude: double (nullable = true)\n",
      " |-- longitude: double (nullable = true)\n",
      " |-- nb_infraction: integer (nullable = true)\n",
      " |-- quartier: string (nullable = true)\n",
      " |-- zipcode: string (nullable = true)\n",
      "\n"
     ]
    }
   ],
   "source": [
    "restaurants_df.printSchema()"
   ]
  },
  {
   "cell_type": "code",
   "execution_count": 202,
   "metadata": {},
   "outputs": [
    {
     "name": "stdout",
     "output_type": "stream",
     "text": [
      "+-------+--------------------+-----+------------------+------------------+------------------+-------------+-----------------+\n",
      "|summary|             cuisine|grade|         lattitude|         longitude|     nb_infraction|     quartier|          zipcode|\n",
      "+-------+--------------------+-----+------------------+------------------+------------------+-------------+-----------------+\n",
      "|  count|                3772| 3772|              3772|              3772|              3772|         3772|             3772|\n",
      "|   mean|                null| null| 40.67625120771491|-73.96846774331894|10.701219512195122|         null|10545.26802757158|\n",
      "| stddev|                null| null|1.6256337301241979| 4.953221264543527|  5.98845956338147|         null| 588.991762883543|\n",
      "|    min|              Afghan|    A|       -28.0168595|      -119.6368672|                -1|        Bronx|            10001|\n",
      "|    max|Vietnamese/Cambod...|    Z|        51.6514664|       153.1628795|                89|Staten Island|            11697|\n",
      "+-------+--------------------+-----+------------------+------------------+------------------+-------------+-----------------+\n",
      "\n"
     ]
    }
   ],
   "source": [
    "restaurants_df.describe().show()"
   ]
  },
  {
   "cell_type": "code",
   "execution_count": 203,
   "metadata": {},
   "outputs": [
    {
     "data": {
      "text/html": [
       "<div>\n",
       "<style scoped>\n",
       "    .dataframe tbody tr th:only-of-type {\n",
       "        vertical-align: middle;\n",
       "    }\n",
       "\n",
       "    .dataframe tbody tr th {\n",
       "        vertical-align: top;\n",
       "    }\n",
       "\n",
       "    .dataframe thead th {\n",
       "        text-align: right;\n",
       "    }\n",
       "</style>\n",
       "<table border=\"1\" class=\"dataframe\">\n",
       "  <thead>\n",
       "    <tr style=\"text-align: right;\">\n",
       "      <th></th>\n",
       "      <th>_id</th>\n",
       "      <th>longitude</th>\n",
       "      <th>lattitude</th>\n",
       "      <th>zipcode</th>\n",
       "      <th>cuisine</th>\n",
       "      <th>quartier</th>\n",
       "      <th>nb_infraction</th>\n",
       "      <th>grade</th>\n",
       "    </tr>\n",
       "  </thead>\n",
       "  <tbody>\n",
       "    <tr>\n",
       "      <th>0</th>\n",
       "      <td>61f15a93e0cb0c134b208f69</td>\n",
       "      <td>-73.856077</td>\n",
       "      <td>40.848447</td>\n",
       "      <td>10462</td>\n",
       "      <td>Bakery</td>\n",
       "      <td>Bronx</td>\n",
       "      <td>2</td>\n",
       "      <td>A</td>\n",
       "    </tr>\n",
       "    <tr>\n",
       "      <th>1</th>\n",
       "      <td>61f15a93e0cb0c134b208f6a</td>\n",
       "      <td>-73.961704</td>\n",
       "      <td>40.662942</td>\n",
       "      <td>11225</td>\n",
       "      <td>Hamburgers</td>\n",
       "      <td>Brooklyn</td>\n",
       "      <td>8</td>\n",
       "      <td>A</td>\n",
       "    </tr>\n",
       "    <tr>\n",
       "      <th>2</th>\n",
       "      <td>61f15a93e0cb0c134b208f6b</td>\n",
       "      <td>-73.985136</td>\n",
       "      <td>40.767692</td>\n",
       "      <td>10019</td>\n",
       "      <td>Irish</td>\n",
       "      <td>Manhattan</td>\n",
       "      <td>2</td>\n",
       "      <td>A</td>\n",
       "    </tr>\n",
       "    <tr>\n",
       "      <th>3</th>\n",
       "      <td>61f15a93e0cb0c134b208f6c</td>\n",
       "      <td>-73.982420</td>\n",
       "      <td>40.579505</td>\n",
       "      <td>11224</td>\n",
       "      <td>American</td>\n",
       "      <td>Brooklyn</td>\n",
       "      <td>5</td>\n",
       "      <td>A</td>\n",
       "    </tr>\n",
       "    <tr>\n",
       "      <th>4</th>\n",
       "      <td>61f15a93e0cb0c134b208f6d</td>\n",
       "      <td>-73.860115</td>\n",
       "      <td>40.731174</td>\n",
       "      <td>11374</td>\n",
       "      <td>Jewish/Kosher</td>\n",
       "      <td>Queens</td>\n",
       "      <td>20</td>\n",
       "      <td>Z</td>\n",
       "    </tr>\n",
       "    <tr>\n",
       "      <th>...</th>\n",
       "      <td>...</td>\n",
       "      <td>...</td>\n",
       "      <td>...</td>\n",
       "      <td>...</td>\n",
       "      <td>...</td>\n",
       "      <td>...</td>\n",
       "      <td>...</td>\n",
       "      <td>...</td>\n",
       "    </tr>\n",
       "    <tr>\n",
       "      <th>3767</th>\n",
       "      <td>61f15a94e0cb0c134b209e20</td>\n",
       "      <td>-73.986544</td>\n",
       "      <td>40.733770</td>\n",
       "      <td>10003</td>\n",
       "      <td>Café/Coffee/Tea</td>\n",
       "      <td>Manhattan</td>\n",
       "      <td>5</td>\n",
       "      <td>A</td>\n",
       "    </tr>\n",
       "    <tr>\n",
       "      <th>3768</th>\n",
       "      <td>61f15a94e0cb0c134b209e21</td>\n",
       "      <td>-73.946224</td>\n",
       "      <td>40.656571</td>\n",
       "      <td>11203</td>\n",
       "      <td>Café/Coffee/Tea</td>\n",
       "      <td>Brooklyn</td>\n",
       "      <td>3</td>\n",
       "      <td>A</td>\n",
       "    </tr>\n",
       "    <tr>\n",
       "      <th>3769</th>\n",
       "      <td>61f15a94e0cb0c134b209e22</td>\n",
       "      <td>-73.983944</td>\n",
       "      <td>40.756111</td>\n",
       "      <td>10036</td>\n",
       "      <td>Japanese</td>\n",
       "      <td>Manhattan</td>\n",
       "      <td>7</td>\n",
       "      <td>A</td>\n",
       "    </tr>\n",
       "    <tr>\n",
       "      <th>3770</th>\n",
       "      <td>61f15a94e0cb0c134b209e23</td>\n",
       "      <td>-73.986652</td>\n",
       "      <td>40.753641</td>\n",
       "      <td>10018</td>\n",
       "      <td>Sandwiches/Salads/Mixed Buffet</td>\n",
       "      <td>Manhattan</td>\n",
       "      <td>5</td>\n",
       "      <td>A</td>\n",
       "    </tr>\n",
       "    <tr>\n",
       "      <th>3771</th>\n",
       "      <td>61f15a94e0cb0c134b209e24</td>\n",
       "      <td>-74.025217</td>\n",
       "      <td>40.622463</td>\n",
       "      <td>11209</td>\n",
       "      <td>Chinese</td>\n",
       "      <td>Brooklyn</td>\n",
       "      <td>12</td>\n",
       "      <td>A</td>\n",
       "    </tr>\n",
       "  </tbody>\n",
       "</table>\n",
       "<p>3772 rows × 8 columns</p>\n",
       "</div>"
      ],
      "text/plain": [
       "                           _id  longitude  lattitude zipcode  \\\n",
       "0     61f15a93e0cb0c134b208f69 -73.856077  40.848447   10462   \n",
       "1     61f15a93e0cb0c134b208f6a -73.961704  40.662942   11225   \n",
       "2     61f15a93e0cb0c134b208f6b -73.985136  40.767692   10019   \n",
       "3     61f15a93e0cb0c134b208f6c -73.982420  40.579505   11224   \n",
       "4     61f15a93e0cb0c134b208f6d -73.860115  40.731174   11374   \n",
       "...                        ...        ...        ...     ...   \n",
       "3767  61f15a94e0cb0c134b209e20 -73.986544  40.733770   10003   \n",
       "3768  61f15a94e0cb0c134b209e21 -73.946224  40.656571   11203   \n",
       "3769  61f15a94e0cb0c134b209e22 -73.983944  40.756111   10036   \n",
       "3770  61f15a94e0cb0c134b209e23 -73.986652  40.753641   10018   \n",
       "3771  61f15a94e0cb0c134b209e24 -74.025217  40.622463   11209   \n",
       "\n",
       "                             cuisine   quartier  nb_infraction grade  \n",
       "0                             Bakery      Bronx              2     A  \n",
       "1                         Hamburgers   Brooklyn              8     A  \n",
       "2                              Irish  Manhattan              2     A  \n",
       "3                          American    Brooklyn              5     A  \n",
       "4                      Jewish/Kosher     Queens             20     Z  \n",
       "...                              ...        ...            ...   ...  \n",
       "3767                 Café/Coffee/Tea  Manhattan              5     A  \n",
       "3768                 Café/Coffee/Tea   Brooklyn              3     A  \n",
       "3769                        Japanese  Manhattan              7     A  \n",
       "3770  Sandwiches/Salads/Mixed Buffet  Manhattan              5     A  \n",
       "3771                         Chinese   Brooklyn             12     A  \n",
       "\n",
       "[3772 rows x 8 columns]"
      ]
     },
     "execution_count": 203,
     "metadata": {},
     "output_type": "execute_result"
    }
   ],
   "source": [
    "import pymongo\n",
    "import pandas as pd\n",
    "from pymongo import MongoClient\n",
    "\n",
    "#MongoDB collection to Pandas dataframe\n",
    "c = MongoClient()\n",
    "db = c.restaurantsdb\n",
    "input_data = db.restau_df\n",
    "df = pd.DataFrame(list(input_data.find()))\n",
    "df"
   ]
  },
  {
   "cell_type": "code",
   "execution_count": 204,
   "metadata": {},
   "outputs": [
    {
     "data": {
      "text/plain": [
       "American            1255\n",
       "Italian              325\n",
       "Pizza                270\n",
       "Café/Coffee/Tea      180\n",
       "Hamburgers           159\n",
       "                    ... \n",
       "CafÃ©/Coffee/Tea       1\n",
       "Moroccan               1\n",
       "Armenian               1\n",
       "Chinese/Japanese       1\n",
       "Salads                 1\n",
       "Name: cuisine, Length: 70, dtype: int64"
      ]
     },
     "execution_count": 204,
     "metadata": {},
     "output_type": "execute_result"
    }
   ],
   "source": [
    "df['cuisine'].value_counts()"
   ]
  },
  {
   "cell_type": "code",
   "execution_count": 205,
   "metadata": {},
   "outputs": [
    {
     "data": {
      "text/plain": [
       "Manhattan        1883\n",
       "Queens            738\n",
       "Brooklyn          684\n",
       "Bronx             309\n",
       "Staten Island     158\n",
       "Name: quartier, dtype: int64"
      ]
     },
     "execution_count": 205,
     "metadata": {},
     "output_type": "execute_result"
    }
   ],
   "source": [
    "df['quartier'].value_counts()"
   ]
  },
  {
   "cell_type": "markdown",
   "metadata": {},
   "source": [
    "##### One Hot Encoding"
   ]
  },
  {
   "cell_type": "code",
   "execution_count": 206,
   "metadata": {},
   "outputs": [
    {
     "data": {
      "text/html": [
       "<div>\n",
       "<style scoped>\n",
       "    .dataframe tbody tr th:only-of-type {\n",
       "        vertical-align: middle;\n",
       "    }\n",
       "\n",
       "    .dataframe tbody tr th {\n",
       "        vertical-align: top;\n",
       "    }\n",
       "\n",
       "    .dataframe thead th {\n",
       "        text-align: right;\n",
       "    }\n",
       "</style>\n",
       "<table border=\"1\" class=\"dataframe\">\n",
       "  <thead>\n",
       "    <tr style=\"text-align: right;\">\n",
       "      <th></th>\n",
       "      <th>_id</th>\n",
       "      <th>longitude</th>\n",
       "      <th>lattitude</th>\n",
       "      <th>zipcode</th>\n",
       "      <th>cuisine</th>\n",
       "      <th>quartier</th>\n",
       "      <th>nb_infraction</th>\n",
       "      <th>grade</th>\n",
       "    </tr>\n",
       "  </thead>\n",
       "  <tbody>\n",
       "    <tr>\n",
       "      <th>0</th>\n",
       "      <td>61f15a93e0cb0c134b208f69</td>\n",
       "      <td>-73.856077</td>\n",
       "      <td>40.848447</td>\n",
       "      <td>10462</td>\n",
       "      <td>6</td>\n",
       "      <td>0</td>\n",
       "      <td>2</td>\n",
       "      <td>0</td>\n",
       "    </tr>\n",
       "    <tr>\n",
       "      <th>1</th>\n",
       "      <td>61f15a93e0cb0c134b208f6a</td>\n",
       "      <td>-73.961704</td>\n",
       "      <td>40.662942</td>\n",
       "      <td>11225</td>\n",
       "      <td>30</td>\n",
       "      <td>1</td>\n",
       "      <td>8</td>\n",
       "      <td>0</td>\n",
       "    </tr>\n",
       "    <tr>\n",
       "      <th>2</th>\n",
       "      <td>61f15a93e0cb0c134b208f6b</td>\n",
       "      <td>-73.985136</td>\n",
       "      <td>40.767692</td>\n",
       "      <td>10019</td>\n",
       "      <td>35</td>\n",
       "      <td>2</td>\n",
       "      <td>2</td>\n",
       "      <td>0</td>\n",
       "    </tr>\n",
       "    <tr>\n",
       "      <th>3</th>\n",
       "      <td>61f15a93e0cb0c134b208f6c</td>\n",
       "      <td>-73.982420</td>\n",
       "      <td>40.579505</td>\n",
       "      <td>11224</td>\n",
       "      <td>2</td>\n",
       "      <td>1</td>\n",
       "      <td>5</td>\n",
       "      <td>0</td>\n",
       "    </tr>\n",
       "    <tr>\n",
       "      <th>4</th>\n",
       "      <td>61f15a93e0cb0c134b208f6d</td>\n",
       "      <td>-73.860115</td>\n",
       "      <td>40.731174</td>\n",
       "      <td>11374</td>\n",
       "      <td>38</td>\n",
       "      <td>3</td>\n",
       "      <td>20</td>\n",
       "      <td>4</td>\n",
       "    </tr>\n",
       "  </tbody>\n",
       "</table>\n",
       "</div>"
      ],
      "text/plain": [
       "                        _id  longitude  lattitude zipcode  cuisine  quartier  \\\n",
       "0  61f15a93e0cb0c134b208f69 -73.856077  40.848447   10462        6         0   \n",
       "1  61f15a93e0cb0c134b208f6a -73.961704  40.662942   11225       30         1   \n",
       "2  61f15a93e0cb0c134b208f6b -73.985136  40.767692   10019       35         2   \n",
       "3  61f15a93e0cb0c134b208f6c -73.982420  40.579505   11224        2         1   \n",
       "4  61f15a93e0cb0c134b208f6d -73.860115  40.731174   11374       38         3   \n",
       "\n",
       "   nb_infraction  grade  \n",
       "0              2      0  \n",
       "1              8      0  \n",
       "2              2      0  \n",
       "3              5      0  \n",
       "4             20      4  "
      ]
     },
     "execution_count": 206,
     "metadata": {},
     "output_type": "execute_result"
    }
   ],
   "source": [
    "from sklearn.preprocessing import LabelEncoder\n",
    "\n",
    "df['cuisine'] = LabelEncoder().fit_transform(df['cuisine'])\n",
    "df['quartier'] = LabelEncoder().fit_transform(df['quartier'])\n",
    "df['grade'] = LabelEncoder().fit_transform(df['grade'])\n",
    "df.head()"
   ]
  },
  {
   "cell_type": "code",
   "execution_count": 207,
   "metadata": {},
   "outputs": [
    {
     "data": {
      "text/plain": [
       "_id               object\n",
       "longitude        float64\n",
       "lattitude        float64\n",
       "zipcode            int32\n",
       "cuisine            int32\n",
       "quartier           int32\n",
       "nb_infraction      int64\n",
       "grade              int32\n",
       "dtype: object"
      ]
     },
     "execution_count": 207,
     "metadata": {},
     "output_type": "execute_result"
    }
   ],
   "source": [
    "df[\"zipcode\"] = df[\"zipcode\"].astype(str).astype(int)\n",
    "df.dtypes"
   ]
  },
  {
   "cell_type": "code",
   "execution_count": 208,
   "metadata": {},
   "outputs": [
    {
     "data": {
      "text/html": [
       "<div>\n",
       "<style scoped>\n",
       "    .dataframe tbody tr th:only-of-type {\n",
       "        vertical-align: middle;\n",
       "    }\n",
       "\n",
       "    .dataframe tbody tr th {\n",
       "        vertical-align: top;\n",
       "    }\n",
       "\n",
       "    .dataframe thead th {\n",
       "        text-align: right;\n",
       "    }\n",
       "</style>\n",
       "<table border=\"1\" class=\"dataframe\">\n",
       "  <thead>\n",
       "    <tr style=\"text-align: right;\">\n",
       "      <th></th>\n",
       "      <th>longitude</th>\n",
       "      <th>lattitude</th>\n",
       "      <th>zipcode</th>\n",
       "      <th>cuisine</th>\n",
       "      <th>quartier</th>\n",
       "      <th>grade</th>\n",
       "    </tr>\n",
       "  </thead>\n",
       "  <tbody>\n",
       "    <tr>\n",
       "      <th>0</th>\n",
       "      <td>-73.856077</td>\n",
       "      <td>40.848447</td>\n",
       "      <td>10462</td>\n",
       "      <td>6</td>\n",
       "      <td>0</td>\n",
       "      <td>0</td>\n",
       "    </tr>\n",
       "    <tr>\n",
       "      <th>1</th>\n",
       "      <td>-73.961704</td>\n",
       "      <td>40.662942</td>\n",
       "      <td>11225</td>\n",
       "      <td>30</td>\n",
       "      <td>1</td>\n",
       "      <td>0</td>\n",
       "    </tr>\n",
       "    <tr>\n",
       "      <th>2</th>\n",
       "      <td>-73.985136</td>\n",
       "      <td>40.767692</td>\n",
       "      <td>10019</td>\n",
       "      <td>35</td>\n",
       "      <td>2</td>\n",
       "      <td>0</td>\n",
       "    </tr>\n",
       "    <tr>\n",
       "      <th>3</th>\n",
       "      <td>-73.982420</td>\n",
       "      <td>40.579505</td>\n",
       "      <td>11224</td>\n",
       "      <td>2</td>\n",
       "      <td>1</td>\n",
       "      <td>0</td>\n",
       "    </tr>\n",
       "    <tr>\n",
       "      <th>4</th>\n",
       "      <td>-73.860115</td>\n",
       "      <td>40.731174</td>\n",
       "      <td>11374</td>\n",
       "      <td>38</td>\n",
       "      <td>3</td>\n",
       "      <td>4</td>\n",
       "    </tr>\n",
       "  </tbody>\n",
       "</table>\n",
       "</div>"
      ],
      "text/plain": [
       "   longitude  lattitude  zipcode  cuisine  quartier  grade\n",
       "0 -73.856077  40.848447    10462        6         0      0\n",
       "1 -73.961704  40.662942    11225       30         1      0\n",
       "2 -73.985136  40.767692    10019       35         2      0\n",
       "3 -73.982420  40.579505    11224        2         1      0\n",
       "4 -73.860115  40.731174    11374       38         3      4"
      ]
     },
     "execution_count": 208,
     "metadata": {},
     "output_type": "execute_result"
    }
   ],
   "source": [
    "del df['_id']\n",
    "del df['nb_infraction']\n",
    "df.head()"
   ]
  },
  {
   "cell_type": "code",
   "execution_count": 209,
   "metadata": {},
   "outputs": [],
   "source": [
    "X = df.iloc[:, :-1]\n",
    "y = df.iloc[:, -1]"
   ]
  },
  {
   "cell_type": "code",
   "execution_count": 210,
   "metadata": {},
   "outputs": [
    {
     "data": {
      "text/html": [
       "<div>\n",
       "<style scoped>\n",
       "    .dataframe tbody tr th:only-of-type {\n",
       "        vertical-align: middle;\n",
       "    }\n",
       "\n",
       "    .dataframe tbody tr th {\n",
       "        vertical-align: top;\n",
       "    }\n",
       "\n",
       "    .dataframe thead th {\n",
       "        text-align: right;\n",
       "    }\n",
       "</style>\n",
       "<table border=\"1\" class=\"dataframe\">\n",
       "  <thead>\n",
       "    <tr style=\"text-align: right;\">\n",
       "      <th></th>\n",
       "      <th>longitude</th>\n",
       "      <th>lattitude</th>\n",
       "      <th>zipcode</th>\n",
       "      <th>cuisine</th>\n",
       "      <th>quartier</th>\n",
       "    </tr>\n",
       "  </thead>\n",
       "  <tbody>\n",
       "    <tr>\n",
       "      <th>0</th>\n",
       "      <td>-73.856077</td>\n",
       "      <td>40.848447</td>\n",
       "      <td>10462</td>\n",
       "      <td>6</td>\n",
       "      <td>0</td>\n",
       "    </tr>\n",
       "    <tr>\n",
       "      <th>1</th>\n",
       "      <td>-73.961704</td>\n",
       "      <td>40.662942</td>\n",
       "      <td>11225</td>\n",
       "      <td>30</td>\n",
       "      <td>1</td>\n",
       "    </tr>\n",
       "    <tr>\n",
       "      <th>2</th>\n",
       "      <td>-73.985136</td>\n",
       "      <td>40.767692</td>\n",
       "      <td>10019</td>\n",
       "      <td>35</td>\n",
       "      <td>2</td>\n",
       "    </tr>\n",
       "    <tr>\n",
       "      <th>3</th>\n",
       "      <td>-73.982420</td>\n",
       "      <td>40.579505</td>\n",
       "      <td>11224</td>\n",
       "      <td>2</td>\n",
       "      <td>1</td>\n",
       "    </tr>\n",
       "    <tr>\n",
       "      <th>4</th>\n",
       "      <td>-73.860115</td>\n",
       "      <td>40.731174</td>\n",
       "      <td>11374</td>\n",
       "      <td>38</td>\n",
       "      <td>3</td>\n",
       "    </tr>\n",
       "  </tbody>\n",
       "</table>\n",
       "</div>"
      ],
      "text/plain": [
       "   longitude  lattitude  zipcode  cuisine  quartier\n",
       "0 -73.856077  40.848447    10462        6         0\n",
       "1 -73.961704  40.662942    11225       30         1\n",
       "2 -73.985136  40.767692    10019       35         2\n",
       "3 -73.982420  40.579505    11224        2         1\n",
       "4 -73.860115  40.731174    11374       38         3"
      ]
     },
     "execution_count": 210,
     "metadata": {},
     "output_type": "execute_result"
    }
   ],
   "source": [
    "X.head()"
   ]
  },
  {
   "cell_type": "code",
   "execution_count": 211,
   "metadata": {},
   "outputs": [
    {
     "data": {
      "text/plain": [
       "0    0\n",
       "1    0\n",
       "2    0\n",
       "3    0\n",
       "4    4\n",
       "Name: grade, dtype: int32"
      ]
     },
     "execution_count": 211,
     "metadata": {},
     "output_type": "execute_result"
    }
   ],
   "source": [
    "y.head()"
   ]
  },
  {
   "cell_type": "markdown",
   "metadata": {},
   "source": [
    "##### Gradient Descent"
   ]
  },
  {
   "cell_type": "code",
   "execution_count": 212,
   "metadata": {},
   "outputs": [],
   "source": [
    "from sklearn.model_selection import train_test_split\n",
    "\n",
    "X_train, X_test, y_train, y_test = train_test_split(X, y, test_size=0.4, random_state=42)\n",
    "data_train_df = (X_train, y_train)\n",
    "data_test_df = (X_test, y_test)"
   ]
  },
  {
   "cell_type": "code",
   "execution_count": 213,
   "metadata": {},
   "outputs": [
    {
     "data": {
      "image/png": "[encoded data removed]",
      "text/plain": [
       "<Figure size 720x720 with 2 Axes>"
      ]
     },
     "metadata": {
      "needs_background": "light"
     },
     "output_type": "display_data"
    }
   ],
   "source": [
    "import pandas as pd\n",
    "import seaborn as sns\n",
    "from pylab import rcParams\n",
    "import matplotlib.pyplot as plt\n",
    "\n",
    "def plot_correlation(data):\n",
    "    '''\n",
    "    plot correlation's matrix to explore dependency between features \n",
    "    '''\n",
    "    # init figure size\n",
    "    rcParams['figure.figsize'] = 10, 10\n",
    "    fig = plt.figure()\n",
    "    sns.heatmap(data.corr(), annot=True, fmt=\".2f\")\n",
    "    plt.show()\n",
    "    fig.savefig('corr.png')\n",
    "\n",
    "# plot correlation & densities\n",
    "plot_correlation(df)"
   ]
  },
  {
   "cell_type": "code",
   "execution_count": 214,
   "metadata": {},
   "outputs": [
    {
     "name": "stdout",
     "output_type": "stream",
     "text": [
      "Nombre d'éléments dans la classe 0 :  1983\n",
      "Nombre d'éléments dans la classe 1 :  149\n",
      "Nombre d'éléments dans la classe 2 :  15\n",
      "Nombre d'éléments dans la classe 3 :  0\n"
     ]
    }
   ],
   "source": [
    "print(\"Nombre d'éléments dans la classe 0 : \", list(y_train).count(0))\n",
    "print(\"Nombre d'éléments dans la classe 1 : \", list(y_train).count(1))\n",
    "print(\"Nombre d'éléments dans la classe 2 : \", list(y_train).count(2))\n",
    "print(\"Nombre d'éléments dans la classe 3 : \", list(y_train).count(3))"
   ]
  },
  {
   "cell_type": "code",
   "execution_count": 215,
   "metadata": {},
   "outputs": [
    {
     "name": "stdout",
     "output_type": "stream",
     "text": [
      "Counter({0: 1983, 1: 1983, 4: 1983, 2: 1983})\n"
     ]
    }
   ],
   "source": [
    "# Oversample and plot imbalanced dataset with SMOTE\n",
    "from imblearn.over_sampling import SMOTE\n",
    "from collections import Counter\n",
    "\n",
    "# transform the dataset\n",
    "oversample = SMOTE(sampling_strategy='not majority')\n",
    "X_train_balanced, y_train_balanced = oversample.fit_resample(X_train, y_train)\n",
    "\n",
    "# summarize the new class distribution\n",
    "counter = Counter(y_train_balanced)\n",
    "print(counter)"
   ]
  },
  {
   "cell_type": "code",
   "execution_count": 216,
   "metadata": {},
   "outputs": [
    {
     "name": "stdout",
     "output_type": "stream",
     "text": [
      "[4 0 0 ... 0 0 0]\n"
     ]
    }
   ],
   "source": [
    "from sklearn.neighbors import KNeighborsClassifier\n",
    "\n",
    "model = KNeighborsClassifier(n_neighbors=4)\n",
    "\n",
    "# Train the model using the training sets\n",
    "model.fit(X_train,y_train)\n",
    "\n",
    "#Predict Output\n",
    "predicted = model.predict(X_test)\n",
    "print(predicted)"
   ]
  },
  {
   "cell_type": "code",
   "execution_count": 217,
   "metadata": {},
   "outputs": [
    {
     "name": "stdout",
     "output_type": "stream",
     "text": [
      "Accuracy: 0.873426110006627\n"
     ]
    }
   ],
   "source": [
    "#Import scikit-learn metrics module for accuracy calculation\n",
    "from sklearn import metrics\n",
    "\n",
    "print(\"Accuracy:\",metrics.accuracy_score(y_test, predicted))"
   ]
  },
  {
   "cell_type": "markdown",
   "metadata": {},
   "source": [
    "- Quartier et Cuisine en catégorie\n",
    "- Extraire grade et score\n",
    "- Extraire longitude et latitude (variable adress)\n",
    "- Split train set et test set\n",
    "- Regression : transformer output en classe et comparer avec le modele de classification\n",
    "- Choisir metrics de regression et classification\n",
    "- Arbre de décision, Random Forest, Xgboost"
   ]
  },
  {
   "cell_type": "markdown",
   "metadata": {},
   "source": [
    "Remarques : voir le nombre de controles par restaurant et le grade donné à chaque fois. "
   ]
  },
  {
   "cell_type": "markdown",
   "metadata": {},
   "source": []
  }
 ],
 "metadata": {
  "interpreter": {
   "hash": "38740d3277777e2cd7c6c2cc9d8addf5118fdf3f82b1b39231fd12aeac8aee8b"
  },
  "kernelspec": {
   "display_name": "Python 3.10.2 64-bit",
   "language": "python",
   "name": "python3"
  },
  "language_info": {
   "codemirror_mode": {
    "name": "ipython",
    "version": 3
   },
   "file_extension": ".py",
   "mimetype": "text/x-python",
   "name": "python",
   "nbconvert_exporter": "python",
   "pygments_lexer": "ipython3",
   "version": "3.10.2"
  },
  "orig_nbformat": 4
 },
 "nbformat": 4,
 "nbformat_minor": 2
}
